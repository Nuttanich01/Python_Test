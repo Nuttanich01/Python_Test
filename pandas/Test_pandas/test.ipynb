{
 "cells": [
  {
   "cell_type": "code",
   "execution_count": 1,
   "metadata": {},
   "outputs": [],
   "source": [
    "import polars as p\n",
    "import math"
   ]
  },
  {
   "cell_type": "code",
   "execution_count": 4,
   "metadata": {},
   "outputs": [
    {
     "data": {
      "text/html": [
       "<div><style>\n",
       ".dataframe > thead > tr > th,\n",
       ".dataframe > tbody > tr > td {\n",
       "  text-align: right;\n",
       "}\n",
       "</style>\n",
       "<small>shape: (1, 1)</small><table border=\"1\" class=\"dataframe\"><thead><tr><th>a</th></tr><tr><td>f64</td></tr></thead><tbody><tr><td>0.785398</td></tr></tbody></table></div>"
      ],
      "text/plain": [
       "shape: (1, 1)\n",
       "┌──────────┐\n",
       "│ a        │\n",
       "│ ---      │\n",
       "│ f64      │\n",
       "╞══════════╡\n",
       "│ 0.785398 │\n",
       "└──────────┘"
      ]
     },
     "execution_count": 4,
     "metadata": {},
     "output_type": "execute_result"
    }
   ],
   "source": [
    "df = p.DataFrame({\"a\": [1.0]})\n",
    "df.select(p.col(\"a\").arctan())"
   ]
  },
  {
   "cell_type": "code",
   "execution_count": 5,
   "metadata": {},
   "outputs": [],
   "source": [
    "cis_3h_hu = p.read_csv('R_CIS_3H_RELATIVE_HUMIDITY.csv', skip_rows=3)\n",
    "cis_d_maxtemp = p.read_csv('R_CIS_D_MAX_TEMP.csv', skip_rows=3)\n",
    "cis_d_mintemp = p.read_csv('R_CIS_D_MIN_TEMP.csv', skip_rows=3)\n",
    "cis_3h_presmsl = p.read_csv('R_CIS_3H_PRES_MSL.csv', skip_rows=3)\n",
    "cis_d_wind = p.read_csv('R_CIS_D_WIND.csv')"
   ]
  },
  {
   "attachments": {},
   "cell_type": "markdown",
   "metadata": {},
   "source": [
    "Measurement2 = MEAN\n",
    "\n",
    "direction -> y = cos(dir) x = sin(y)\n",
    "\n",
    "sumx, sumy\n",
    "\n",
    "arctac(x/y) = degree"
   ]
  },
  {
   "cell_type": "code",
   "execution_count": 6,
   "metadata": {},
   "outputs": [],
   "source": [
    "# create a dictionary to map month strings to integer values\n",
    "month_dict = {\"Jan\": 1, \"Feb\": 2, \"Mar\": 3, \"Apr\": 4, \"May\": 5, \"Jun\": 6, \"Jul\": 7, \"Aug\": 8, \"Sep\": 9, \"Oct\": 10, \"Nov\": 11, \"Dec\": 12}\n",
    "month_reverse_dict = {v: k for k, v in month_dict.items()}"
   ]
  },
  {
   "attachments": {},
   "cell_type": "markdown",
   "metadata": {},
   "source": [
    "# WIND"
   ]
  },
  {
   "cell_type": "code",
   "execution_count": 90,
   "metadata": {},
   "outputs": [],
   "source": [
    "def get_wind(year):\n",
    "    sorted_filtered_cis_d_wind = (\n",
    "        cis_d_wind.select(p.col([\"DAY_OF_MONTH\",\"MONTH\",\"Daily_Wind_Spd\",\"Daily_Wind_Dir\"]))\n",
    "        .with_columns([\n",
    "            p.lit(year).alias(\"YEAR\"),\n",
    "            p.col(\"Daily_Wind_Dir\").cos().alias(\"cosy\"),\n",
    "            p.col(\"Daily_Wind_Dir\").sin().alias(\"sinx\")\n",
    "        ])\n",
    "        .sort(\"DAY_OF_MONTH\")\n",
    "        .rename({\"Daily_Wind_Spd\":\"Mean_Wind_Speed\"})\n",
    "        .filter(p.col(\"Mean_Wind_Speed\") != 0)\n",
    "        .select(\n",
    "            p.col(\"DAY_OF_MONTH\"),\n",
    "            p.col(\"MONTH\"),\n",
    "            p.col(\"YEAR\"),\n",
    "            p.col(\"Mean_Wind_Speed\"),\n",
    "            p.col(\"cosy\"),\n",
    "            p.col(\"sinx\")\n",
    "        )\n",
    "    )\n",
    "\n",
    "    sumcosy = sorted_filtered_cis_d_wind.groupby(\"MONTH\").agg(p.col(\"cosy\").sum()).sort(\"MONTH\")\n",
    "    sumsinx = sorted_filtered_cis_d_wind.groupby(\"MONTH\").agg(p.col(\"sinx\").sum()).sort(\"MONTH\")\n",
    "    # compute the arctan of the ratio between sumsinx and sumcosy and convert to degrees\n",
    "    arctan_value = (sumsinx[\"sinx\"] / sumcosy[\"cosy\"]).arctan().apply(lambda x: int(round(x * 180 / math.pi,0))).rename(\"arctan\")\n",
    "    # convert arctan_value series to a dataframe and merge with either sumcosy or sumsinx to add the \"MONTH\" column\n",
    "    arctan_df = arctan_value.to_frame()\n",
    "    df_horizontal_concat = p.concat(\n",
    "        [\n",
    "            arctan_df,\n",
    "            sumcosy,\n",
    "        ],\n",
    "        how=\"horizontal\",)\n",
    "    merged_cis_d_wind_ = sorted_filtered_cis_d_wind.join(df_horizontal_concat, on=\"MONTH\", how=\"left\")\n",
    "    merged_cis_d_wind = (\n",
    "        merged_cis_d_wind_.rename({\"arctan\": \"Mean_Wind_Direction\"})\n",
    "        .select(p.col([\"DAY_OF_MONTH\",\"MONTH\",\"YEAR\",\"Mean_Wind_Speed\",\"Mean_Wind_Direction\"]))\n",
    "    )\n",
    "    return merged_cis_d_wind"
   ]
  },
  {
   "cell_type": "code",
   "execution_count": 91,
   "metadata": {},
   "outputs": [],
   "source": [
    "sorted_filtered_cis_d_wind = (\n",
    "    cis_d_wind.select(p.col([\"DAY_OF_MONTH\",\"MONTH\",\"Daily_Wind_Spd\",\"Daily_Wind_Dir\"]))\n",
    "    .with_columns([\n",
    "        p.lit(2022).alias(\"YEAR\"),\n",
    "        p.col(\"Daily_Wind_Dir\").cos().alias(\"cosy\"),\n",
    "        p.col(\"Daily_Wind_Dir\").sin().alias(\"sinx\")\n",
    "    ])\n",
    "    .sort(\"DAY_OF_MONTH\")\n",
    "    .rename({\"Daily_Wind_Spd\":\"Mean_Wind_Speed\"})\n",
    "    .filter(p.col(\"Mean_Wind_Speed\") != 0)\n",
    "    .select(\n",
    "        p.col(\"DAY_OF_MONTH\"),\n",
    "        p.col(\"MONTH\"),\n",
    "        p.col(\"YEAR\"),\n",
    "        p.col(\"Mean_Wind_Speed\"),\n",
    "        p.col(\"cosy\"),\n",
    "        p.col(\"sinx\")\n",
    "    )\n",
    ")\n",
    "\n",
    "sumcosy = sorted_filtered_cis_d_wind.groupby(\"MONTH\").agg(p.col(\"cosy\").sum()).sort(\"MONTH\")\n",
    "sumsinx = sorted_filtered_cis_d_wind.groupby(\"MONTH\").agg(p.col(\"sinx\").sum()).sort(\"MONTH\")\n",
    "# compute the arctan of the ratio between sumsinx and sumcosy and convert to degrees\n",
    "arctan_value = (sumsinx[\"sinx\"] / sumcosy[\"cosy\"]).arctan().apply(lambda x: int(round((x * 180 / math.pi) + (360 if x < 0 else 0), 0))).rename(\"arctan\")\n",
    "\n",
    "# convert arctan_value series to a dataframe and merge with either sumcosy or sumsinx to add the \"MONTH\" column\n",
    "arctan_df = arctan_value.to_frame()\n",
    "df_horizontal_concat = p.concat(\n",
    "    [\n",
    "        arctan_df,\n",
    "        sumcosy,\n",
    "    ],\n",
    "    how=\"horizontal\",)\n",
    "merged_cis_d_wind_ = sorted_filtered_cis_d_wind.join(df_horizontal_concat, on=\"MONTH\", how=\"left\")\n",
    "merged_cis_d_wind = (\n",
    "    merged_cis_d_wind_.rename({\"arctan\": \"Mean_Wind_Direction\"})\n",
    "    .select(p.col([\"DAY_OF_MONTH\",\"MONTH\",\"YEAR\",\"Mean_Wind_Speed\",\"Mean_Wind_Direction\"]))\n",
    ")"
   ]
  },
  {
   "cell_type": "code",
   "execution_count": 47,
   "metadata": {},
   "outputs": [],
   "source": [
    "test_DF = (\n",
    "    merged_cis_d_wind_.rename({\"arctan\": \"Mean_Wind_Direction\"})\n",
    "        .groupby([\"DAY_OF_MONTH\", \"MONTH\", \"YEAR\"])\n",
    "        .agg([\n",
    "            p.col(\"Mean_Wind_Direction\").list(),\n",
    "            p.col(\"Mean_Wind_Speed\").first().alias(\"Mean_Wind_Speed\")\n",
    "        ])\n",
    ")"
   ]
  },
  {
   "cell_type": "code",
   "execution_count": null,
   "metadata": {},
   "outputs": [],
   "source": [
    "test_DF = (\n",
    "    merged_cis_d_wind.arr()\n",
    ")"
   ]
  },
  {
   "cell_type": "code",
   "execution_count": 92,
   "metadata": {},
   "outputs": [],
   "source": [
    "test_DF = (\n",
    "    merged_cis_d_wind_.rename({\"arctan\": \"Mean_Wind_Direction\"})\n",
    "        .groupby([\"DAY_OF_MONTH\", \"MONTH\", \"YEAR\",\"Mean_Wind_Speed\"], maintain_order=True)\n",
    "        .agg(\n",
    "            p.col(\"Mean_Wind_Direction\").arr.concat(p.col('Mean_Wind_Speed')).flatten()\n",
    "        )\n",
    ")\n"
   ]
  },
  {
   "cell_type": "code",
   "execution_count": 89,
   "metadata": {},
   "outputs": [],
   "source": [
    "def wind_list(dfwindunique): \n",
    "    df = (\n",
    "        dfwindunique\n",
    "            .groupby([\"DAY_OF_MONTH\", \"MONTH\", \"YEAR\",\"Mean_Wind_Speed\"], maintain_order=True)\n",
    "            .agg(\n",
    "                p.col(\"Mean_Wind_Direction\").arr.concat(p.col('Mean_Wind_Speed')).flatten()\n",
    "            )\n",
    "    )\n",
    "    return df"
   ]
  },
  {
   "cell_type": "code",
   "execution_count": 93,
   "metadata": {},
   "outputs": [
    {
     "data": {
      "text/html": [
       "<div><style>\n",
       ".dataframe > thead > tr > th,\n",
       ".dataframe > tbody > tr > td {\n",
       "  text-align: right;\n",
       "}\n",
       "</style>\n",
       "<small>shape: (372, 5)</small><table border=\"1\" class=\"dataframe\"><thead><tr><th>DAY_OF_MONTH</th><th>MONTH</th><th>YEAR</th><th>Mean_Wind_Speed</th><th>Mean_Wind_Direction</th></tr><tr><td>i64</td><td>str</td><td>i32</td><td>i64</td><td>list[i64]</td></tr></thead><tbody><tr><td>1</td><td>&quot;Jan&quot;</td><td>2022</td><td>11</td><td>[67, 11]</td></tr><tr><td>1</td><td>&quot;Feb&quot;</td><td>2022</td><td>10</td><td>[340, 10]</td></tr><tr><td>1</td><td>&quot;Mar&quot;</td><td>2022</td><td>9</td><td>[298, 9]</td></tr><tr><td>1</td><td>&quot;Apr&quot;</td><td>2022</td><td>12</td><td>[86, 12]</td></tr><tr><td>1</td><td>&quot;May&quot;</td><td>2022</td><td>10</td><td>[309, 10]</td></tr><tr><td>1</td><td>&quot;Jun&quot;</td><td>2022</td><td>9</td><td>[332, 9]</td></tr><tr><td>1</td><td>&quot;Jul&quot;</td><td>2022</td><td>12</td><td>[319, 12]</td></tr><tr><td>1</td><td>&quot;Aug&quot;</td><td>2022</td><td>7</td><td>[79, 7]</td></tr><tr><td>1</td><td>&quot;Sep&quot;</td><td>2022</td><td>8</td><td>[305, 8]</td></tr><tr><td>1</td><td>&quot;Oct&quot;</td><td>2022</td><td>9</td><td>[13, 9]</td></tr><tr><td>1</td><td>&quot;Nov&quot;</td><td>2022</td><td>11</td><td>[10, 11]</td></tr><tr><td>1</td><td>&quot;Dec&quot;</td><td>2022</td><td>8</td><td>[10, 8]</td></tr><tr><td>...</td><td>...</td><td>...</td><td>...</td><td>...</td></tr><tr><td>31</td><td>&quot;Jan&quot;</td><td>2022</td><td>10</td><td>[67, 10]</td></tr><tr><td>31</td><td>&quot;Feb&quot;</td><td>2022</td><td>null</td><td>[340, null]</td></tr><tr><td>31</td><td>&quot;Mar&quot;</td><td>2022</td><td>9</td><td>[298, 9]</td></tr><tr><td>31</td><td>&quot;Apr&quot;</td><td>2022</td><td>null</td><td>[86, null]</td></tr><tr><td>31</td><td>&quot;May&quot;</td><td>2022</td><td>10</td><td>[309, 10]</td></tr><tr><td>31</td><td>&quot;Jun&quot;</td><td>2022</td><td>null</td><td>[332, null]</td></tr><tr><td>31</td><td>&quot;Jul&quot;</td><td>2022</td><td>8</td><td>[319, 8]</td></tr><tr><td>31</td><td>&quot;Aug&quot;</td><td>2022</td><td>12</td><td>[79, 12]</td></tr><tr><td>31</td><td>&quot;Sep&quot;</td><td>2022</td><td>null</td><td>[305, null]</td></tr><tr><td>31</td><td>&quot;Oct&quot;</td><td>2022</td><td>9</td><td>[13, 9]</td></tr><tr><td>31</td><td>&quot;Nov&quot;</td><td>2022</td><td>null</td><td>[10, null]</td></tr><tr><td>31</td><td>&quot;Dec&quot;</td><td>2022</td><td>8</td><td>[10, 8]</td></tr></tbody></table></div>"
      ],
      "text/plain": [
       "shape: (372, 5)\n",
       "┌──────────────┬───────┬──────┬─────────────────┬─────────────────────┐\n",
       "│ DAY_OF_MONTH ┆ MONTH ┆ YEAR ┆ Mean_Wind_Speed ┆ Mean_Wind_Direction │\n",
       "│ ---          ┆ ---   ┆ ---  ┆ ---             ┆ ---                 │\n",
       "│ i64          ┆ str   ┆ i32  ┆ i64             ┆ list[i64]           │\n",
       "╞══════════════╪═══════╪══════╪═════════════════╪═════════════════════╡\n",
       "│ 1            ┆ Jan   ┆ 2022 ┆ 11              ┆ [67, 11]            │\n",
       "│ 1            ┆ Feb   ┆ 2022 ┆ 10              ┆ [340, 10]           │\n",
       "│ 1            ┆ Mar   ┆ 2022 ┆ 9               ┆ [298, 9]            │\n",
       "│ 1            ┆ Apr   ┆ 2022 ┆ 12              ┆ [86, 12]            │\n",
       "│ ...          ┆ ...   ┆ ...  ┆ ...             ┆ ...                 │\n",
       "│ 31           ┆ Sep   ┆ 2022 ┆ null            ┆ [305, null]         │\n",
       "│ 31           ┆ Oct   ┆ 2022 ┆ 9               ┆ [13, 9]             │\n",
       "│ 31           ┆ Nov   ┆ 2022 ┆ null            ┆ [10, null]          │\n",
       "│ 31           ┆ Dec   ┆ 2022 ┆ 8               ┆ [10, 8]             │\n",
       "└──────────────┴───────┴──────┴─────────────────┴─────────────────────┘"
      ]
     },
     "execution_count": 93,
     "metadata": {},
     "output_type": "execute_result"
    }
   ],
   "source": [
    "test_DF"
   ]
  },
  {
   "cell_type": "code",
   "execution_count": 87,
   "metadata": {},
   "outputs": [],
   "source": [
    "test_DF.write_json(\"path.json\")"
   ]
  },
  {
   "cell_type": "code",
   "execution_count": 43,
   "metadata": {},
   "outputs": [
    {
     "ename": "ColumnNotFoundError",
     "evalue": "list\n\nError originated just after this operation:\nDF [\"DAY_OF_MONTH\", \"MONTH\", \"YEAR\", \"Mean_Wind_Direction\"]; PROJECT */5 COLUMNS; SELECTION: \"None\"",
     "output_type": "error",
     "traceback": [
      "\u001b[1;31m---------------------------------------------------------------------------\u001b[0m",
      "\u001b[1;31mColumnNotFoundError\u001b[0m                       Traceback (most recent call last)",
      "\u001b[1;32mc:\\Users\\Punyawee\\Desktop\\autest\\test.ipynb Cell 10\u001b[0m in \u001b[0;36m<cell line: 1>\u001b[1;34m()\u001b[0m\n\u001b[1;32m----> <a href='vscode-notebook-cell:/c%3A/Users/Punyawee/Desktop/autest/test.ipynb#Y103sZmlsZQ%3D%3D?line=0'>1</a>\u001b[0m test_DF \u001b[39m=\u001b[39m test_DF\u001b[39m.\u001b[39;49mselect([\n\u001b[0;32m      <a href='vscode-notebook-cell:/c%3A/Users/Punyawee/Desktop/autest/test.ipynb#Y103sZmlsZQ%3D%3D?line=1'>2</a>\u001b[0m     \u001b[39m\"\u001b[39;49m\u001b[39mDAY_OF_MONTH\u001b[39;49m\u001b[39m\"\u001b[39;49m,\n\u001b[0;32m      <a href='vscode-notebook-cell:/c%3A/Users/Punyawee/Desktop/autest/test.ipynb#Y103sZmlsZQ%3D%3D?line=2'>3</a>\u001b[0m     \u001b[39m\"\u001b[39;49m\u001b[39mMONTH\u001b[39;49m\u001b[39m\"\u001b[39;49m,\n\u001b[0;32m      <a href='vscode-notebook-cell:/c%3A/Users/Punyawee/Desktop/autest/test.ipynb#Y103sZmlsZQ%3D%3D?line=3'>4</a>\u001b[0m     \u001b[39m\"\u001b[39;49m\u001b[39mYEAR\u001b[39;49m\u001b[39m\"\u001b[39;49m,\n\u001b[0;32m      <a href='vscode-notebook-cell:/c%3A/Users/Punyawee/Desktop/autest/test.ipynb#Y103sZmlsZQ%3D%3D?line=4'>5</a>\u001b[0m     p\u001b[39m.\u001b[39;49mcol(\u001b[39m\"\u001b[39;49m\u001b[39mlist\u001b[39;49m\u001b[39m\"\u001b[39;49m)\u001b[39m.\u001b[39;49malias(\u001b[39m\"\u001b[39;49m\u001b[39mMean_Wind_Direction\u001b[39;49m\u001b[39m\"\u001b[39;49m),\n\u001b[0;32m      <a href='vscode-notebook-cell:/c%3A/Users/Punyawee/Desktop/autest/test.ipynb#Y103sZmlsZQ%3D%3D?line=5'>6</a>\u001b[0m     \u001b[39m\"\u001b[39;49m\u001b[39mMean_Wind_Speed\u001b[39;49m\u001b[39m\"\u001b[39;49m\n\u001b[0;32m      <a href='vscode-notebook-cell:/c%3A/Users/Punyawee/Desktop/autest/test.ipynb#Y103sZmlsZQ%3D%3D?line=6'>7</a>\u001b[0m ])\n",
      "File \u001b[1;32mc:\\Users\\Punyawee\\AppData\\Local\\Programs\\Python\\Python39\\lib\\site-packages\\polars\\internals\\dataframe\\frame.py:6445\u001b[0m, in \u001b[0;36mDataFrame.select\u001b[1;34m(self, exprs, *more_exprs, **named_exprs)\u001b[0m\n\u001b[0;32m   6337\u001b[0m \u001b[39mdef\u001b[39;00m \u001b[39mselect\u001b[39m(\n\u001b[0;32m   6338\u001b[0m     \u001b[39mself\u001b[39m,\n\u001b[0;32m   6339\u001b[0m     exprs: IntoExpr \u001b[39m|\u001b[39m Iterable[IntoExpr] \u001b[39m|\u001b[39m \u001b[39mNone\u001b[39;00m \u001b[39m=\u001b[39m \u001b[39mNone\u001b[39;00m,\n\u001b[0;32m   6340\u001b[0m     \u001b[39m*\u001b[39mmore_exprs: IntoExpr,\n\u001b[0;32m   6341\u001b[0m     \u001b[39m*\u001b[39m\u001b[39m*\u001b[39mnamed_exprs: IntoExpr,\n\u001b[0;32m   6342\u001b[0m ) \u001b[39m-\u001b[39m\u001b[39m>\u001b[39m Self:\n\u001b[0;32m   6343\u001b[0m     \u001b[39m\"\"\"\u001b[39;00m\n\u001b[0;32m   6344\u001b[0m \u001b[39m    Select columns from this DataFrame.\u001b[39;00m\n\u001b[0;32m   6345\u001b[0m \n\u001b[1;32m   (...)\u001b[0m\n\u001b[0;32m   6442\u001b[0m \n\u001b[0;32m   6443\u001b[0m \u001b[39m    \"\"\"\u001b[39;00m\n\u001b[0;32m   6444\u001b[0m     \u001b[39mreturn\u001b[39;00m \u001b[39mself\u001b[39m\u001b[39m.\u001b[39m_from_pydf(\n\u001b[1;32m-> 6445\u001b[0m         \u001b[39mself\u001b[39;49m\u001b[39m.\u001b[39;49mlazy()\n\u001b[0;32m   6446\u001b[0m         \u001b[39m.\u001b[39;49mselect(exprs, \u001b[39m*\u001b[39;49mmore_exprs, \u001b[39m*\u001b[39;49m\u001b[39m*\u001b[39;49mnamed_exprs)\n\u001b[0;32m   6447\u001b[0m         \u001b[39m.\u001b[39;49mcollect(no_optimization\u001b[39m=\u001b[39;49m\u001b[39mTrue\u001b[39;49;00m)\n\u001b[0;32m   6448\u001b[0m         \u001b[39m.\u001b[39m_df\n\u001b[0;32m   6449\u001b[0m     )\n",
      "File \u001b[1;32mc:\\Users\\Punyawee\\AppData\\Local\\Programs\\Python\\Python39\\lib\\site-packages\\polars\\internals\\lazyframe\\frame.py:1438\u001b[0m, in \u001b[0;36mLazyFrame.collect\u001b[1;34m(self, type_coercion, predicate_pushdown, projection_pushdown, simplify_expression, no_optimization, slice_pushdown, common_subplan_elimination, streaming)\u001b[0m\n\u001b[0;32m   1427\u001b[0m     common_subplan_elimination \u001b[39m=\u001b[39m \u001b[39mFalse\u001b[39;00m\n\u001b[0;32m   1429\u001b[0m ldf \u001b[39m=\u001b[39m \u001b[39mself\u001b[39m\u001b[39m.\u001b[39m_ldf\u001b[39m.\u001b[39moptimization_toggle(\n\u001b[0;32m   1430\u001b[0m     type_coercion,\n\u001b[0;32m   1431\u001b[0m     predicate_pushdown,\n\u001b[1;32m   (...)\u001b[0m\n\u001b[0;32m   1436\u001b[0m     streaming,\n\u001b[0;32m   1437\u001b[0m )\n\u001b[1;32m-> 1438\u001b[0m \u001b[39mreturn\u001b[39;00m pli\u001b[39m.\u001b[39mwrap_df(ldf\u001b[39m.\u001b[39;49mcollect())\n",
      "\u001b[1;31mColumnNotFoundError\u001b[0m: list\n\nError originated just after this operation:\nDF [\"DAY_OF_MONTH\", \"MONTH\", \"YEAR\", \"Mean_Wind_Direction\"]; PROJECT */5 COLUMNS; SELECTION: \"None\""
     ]
    }
   ],
   "source": [
    "test_DF = test_DF.select([\n",
    "    \"DAY_OF_MONTH\",\n",
    "    \"MONTH\",\n",
    "    \"YEAR\",\n",
    "    p.col(\"list\").alias(\"Mean_Wind_Direction\"),\n",
    "    \"Mean_Wind_Speed\"\n",
    "])"
   ]
  },
  {
   "cell_type": "code",
   "execution_count": 21,
   "metadata": {},
   "outputs": [
    {
     "data": {
      "text/html": [
       "<div><style>\n",
       ".dataframe > thead > tr > th,\n",
       ".dataframe > tbody > tr > td {\n",
       "  text-align: right;\n",
       "}\n",
       "</style>\n",
       "<small>shape: (372, 5)</small><table border=\"1\" class=\"dataframe\"><thead><tr><th>DAY_OF_MONTH</th><th>MONTH</th><th>YEAR</th><th>Mean_Wind_Speed</th><th>Mean_Wind_Direction</th></tr><tr><td>i64</td><td>str</td><td>i32</td><td>f64</td><td>i64</td></tr></thead><tbody><tr><td>1</td><td>&quot;Jan&quot;</td><td>2022</td><td>8.3</td><td>67</td></tr><tr><td>1</td><td>&quot;Feb&quot;</td><td>2022</td><td>8.9</td><td>340</td></tr><tr><td>1</td><td>&quot;Mar&quot;</td><td>2022</td><td>9.0</td><td>298</td></tr><tr><td>1</td><td>&quot;Apr&quot;</td><td>2022</td><td>9.1</td><td>86</td></tr><tr><td>1</td><td>&quot;May&quot;</td><td>2022</td><td>10.1</td><td>309</td></tr><tr><td>1</td><td>&quot;Jun&quot;</td><td>2022</td><td>10.1</td><td>332</td></tr><tr><td>1</td><td>&quot;Jul&quot;</td><td>2022</td><td>10.3</td><td>319</td></tr><tr><td>1</td><td>&quot;Aug&quot;</td><td>2022</td><td>9.7</td><td>79</td></tr><tr><td>1</td><td>&quot;Sep&quot;</td><td>2022</td><td>8.7</td><td>305</td></tr><tr><td>1</td><td>&quot;Oct&quot;</td><td>2022</td><td>9.0</td><td>13</td></tr><tr><td>1</td><td>&quot;Nov&quot;</td><td>2022</td><td>8.3</td><td>10</td></tr><tr><td>1</td><td>&quot;Dec&quot;</td><td>2022</td><td>8.6</td><td>10</td></tr><tr><td>...</td><td>...</td><td>...</td><td>...</td><td>...</td></tr><tr><td>31</td><td>&quot;Jan&quot;</td><td>2022</td><td>8.3</td><td>67</td></tr><tr><td>31</td><td>&quot;Feb&quot;</td><td>2022</td><td>8.9</td><td>340</td></tr><tr><td>31</td><td>&quot;Mar&quot;</td><td>2022</td><td>9.0</td><td>298</td></tr><tr><td>31</td><td>&quot;Apr&quot;</td><td>2022</td><td>9.1</td><td>86</td></tr><tr><td>31</td><td>&quot;May&quot;</td><td>2022</td><td>10.1</td><td>309</td></tr><tr><td>31</td><td>&quot;Jun&quot;</td><td>2022</td><td>10.1</td><td>332</td></tr><tr><td>31</td><td>&quot;Jul&quot;</td><td>2022</td><td>10.3</td><td>319</td></tr><tr><td>31</td><td>&quot;Aug&quot;</td><td>2022</td><td>9.7</td><td>79</td></tr><tr><td>31</td><td>&quot;Sep&quot;</td><td>2022</td><td>8.7</td><td>305</td></tr><tr><td>31</td><td>&quot;Oct&quot;</td><td>2022</td><td>9.0</td><td>13</td></tr><tr><td>31</td><td>&quot;Nov&quot;</td><td>2022</td><td>8.3</td><td>10</td></tr><tr><td>31</td><td>&quot;Dec&quot;</td><td>2022</td><td>8.6</td><td>10</td></tr></tbody></table></div>"
      ],
      "text/plain": [
       "shape: (372, 5)\n",
       "┌──────────────┬───────┬──────┬─────────────────┬─────────────────────┐\n",
       "│ DAY_OF_MONTH ┆ MONTH ┆ YEAR ┆ Mean_Wind_Speed ┆ Mean_Wind_Direction │\n",
       "│ ---          ┆ ---   ┆ ---  ┆ ---             ┆ ---                 │\n",
       "│ i64          ┆ str   ┆ i32  ┆ f64             ┆ i64                 │\n",
       "╞══════════════╪═══════╪══════╪═════════════════╪═════════════════════╡\n",
       "│ 1            ┆ Jan   ┆ 2022 ┆ 8.3             ┆ 67                  │\n",
       "│ 1            ┆ Feb   ┆ 2022 ┆ 8.9             ┆ 340                 │\n",
       "│ 1            ┆ Mar   ┆ 2022 ┆ 9.0             ┆ 298                 │\n",
       "│ 1            ┆ Apr   ┆ 2022 ┆ 9.1             ┆ 86                  │\n",
       "│ ...          ┆ ...   ┆ ...  ┆ ...             ┆ ...                 │\n",
       "│ 31           ┆ Sep   ┆ 2022 ┆ 8.7             ┆ 305                 │\n",
       "│ 31           ┆ Oct   ┆ 2022 ┆ 9.0             ┆ 13                  │\n",
       "│ 31           ┆ Nov   ┆ 2022 ┆ 8.3             ┆ 10                  │\n",
       "│ 31           ┆ Dec   ┆ 2022 ┆ 8.6             ┆ 10                  │\n",
       "└──────────────┴───────┴──────┴─────────────────┴─────────────────────┘"
      ]
     },
     "execution_count": 21,
     "metadata": {},
     "output_type": "execute_result"
    }
   ],
   "source": [
    "merged_cis_d_wind"
   ]
  },
  {
   "cell_type": "code",
   "execution_count": 10,
   "metadata": {},
   "outputs": [
    {
     "data": {
      "text/html": [
       "<div><style>\n",
       ".dataframe > thead > tr > th,\n",
       ".dataframe > tbody > tr > td {\n",
       "  text-align: right;\n",
       "}\n",
       "</style>\n",
       "<small>shape: (12, 2)</small><table border=\"1\" class=\"dataframe\"><thead><tr><th>MONTH</th><th>sinx</th></tr><tr><td>str</td><td>f64</td></tr></thead><tbody><tr><td>&quot;Apr&quot;</td><td>3.478416</td></tr><tr><td>&quot;Aug&quot;</td><td>-8.57642</td></tr><tr><td>&quot;Dec&quot;</td><td>1.802061</td></tr><tr><td>&quot;Feb&quot;</td><td>-1.411233</td></tr><tr><td>&quot;Jan&quot;</td><td>2.536931</td></tr><tr><td>&quot;Jul&quot;</td><td>-4.667675</td></tr><tr><td>&quot;Jun&quot;</td><td>-3.530456</td></tr><tr><td>&quot;Mar&quot;</td><td>4.291991</td></tr><tr><td>&quot;May&quot;</td><td>-1.729882</td></tr><tr><td>&quot;Nov&quot;</td><td>2.222614</td></tr><tr><td>&quot;Oct&quot;</td><td>1.873747</td></tr><tr><td>&quot;Sep&quot;</td><td>-3.276936</td></tr></tbody></table></div>"
      ],
      "text/plain": [
       "shape: (12, 2)\n",
       "┌───────┬───────────┐\n",
       "│ MONTH ┆ sinx      │\n",
       "│ ---   ┆ ---       │\n",
       "│ str   ┆ f64       │\n",
       "╞═══════╪═══════════╡\n",
       "│ Apr   ┆ 3.478416  │\n",
       "│ Aug   ┆ -8.57642  │\n",
       "│ Dec   ┆ 1.802061  │\n",
       "│ Feb   ┆ -1.411233 │\n",
       "│ ...   ┆ ...       │\n",
       "│ May   ┆ -1.729882 │\n",
       "│ Nov   ┆ 2.222614  │\n",
       "│ Oct   ┆ 1.873747  │\n",
       "│ Sep   ┆ -3.276936 │\n",
       "└───────┴───────────┘"
      ]
     },
     "execution_count": 10,
     "metadata": {},
     "output_type": "execute_result"
    }
   ],
   "source": [
    "sumsinx"
   ]
  },
  {
   "cell_type": "code",
   "execution_count": 9,
   "metadata": {},
   "outputs": [
    {
     "data": {
      "text/html": [
       "<div><style>\n",
       ".dataframe > thead > tr > th,\n",
       ".dataframe > tbody > tr > td {\n",
       "  text-align: right;\n",
       "}\n",
       "</style>\n",
       "<small>shape: (12, 2)</small><table border=\"1\" class=\"dataframe\"><thead><tr><th>MONTH</th><th>cosy</th></tr><tr><td>str</td><td>f64</td></tr></thead><tbody><tr><td>&quot;Apr&quot;</td><td>0.260349</td></tr><tr><td>&quot;Aug&quot;</td><td>-1.611469</td></tr><tr><td>&quot;Dec&quot;</td><td>9.753338</td></tr><tr><td>&quot;Feb&quot;</td><td>3.888738</td></tr><tr><td>&quot;Jan&quot;</td><td>1.080903</td></tr><tr><td>&quot;Jul&quot;</td><td>5.307476</td></tr><tr><td>&quot;Jun&quot;</td><td>6.578039</td></tr><tr><td>&quot;Mar&quot;</td><td>-2.31629</td></tr><tr><td>&quot;May&quot;</td><td>1.397407</td></tr><tr><td>&quot;Nov&quot;</td><td>12.222536</td></tr><tr><td>&quot;Oct&quot;</td><td>7.980627</td></tr><tr><td>&quot;Sep&quot;</td><td>2.310788</td></tr></tbody></table></div>"
      ],
      "text/plain": [
       "shape: (12, 2)\n",
       "┌───────┬───────────┐\n",
       "│ MONTH ┆ cosy      │\n",
       "│ ---   ┆ ---       │\n",
       "│ str   ┆ f64       │\n",
       "╞═══════╪═══════════╡\n",
       "│ Apr   ┆ 0.260349  │\n",
       "│ Aug   ┆ -1.611469 │\n",
       "│ Dec   ┆ 9.753338  │\n",
       "│ Feb   ┆ 3.888738  │\n",
       "│ ...   ┆ ...       │\n",
       "│ May   ┆ 1.397407  │\n",
       "│ Nov   ┆ 12.222536 │\n",
       "│ Oct   ┆ 7.980627  │\n",
       "│ Sep   ┆ 2.310788  │\n",
       "└───────┴───────────┘"
      ]
     },
     "execution_count": 9,
     "metadata": {},
     "output_type": "execute_result"
    }
   ],
   "source": [
    "sumcosy"
   ]
  },
  {
   "cell_type": "code",
   "execution_count": 10,
   "metadata": {},
   "outputs": [
    {
     "data": {
      "text/html": [
       "<div><style>\n",
       ".dataframe > thead > tr > th,\n",
       ".dataframe > tbody > tr > td {\n",
       "  text-align: right;\n",
       "}\n",
       "</style>\n",
       "<small>shape: (372, 5)</small><table border=\"1\" class=\"dataframe\"><thead><tr><th>DAY_OF_MONTH</th><th>MONTH</th><th>YEAR</th><th>Mean_Wind_Speed</th><th>Mean_Wind_Direction</th></tr><tr><td>i64</td><td>str</td><td>i32</td><td>f64</td><td>i64</td></tr></thead><tbody><tr><td>1</td><td>&quot;Jan&quot;</td><td>2022</td><td>8.3</td><td>67</td></tr><tr><td>1</td><td>&quot;Feb&quot;</td><td>2022</td><td>8.9</td><td>-20</td></tr><tr><td>1</td><td>&quot;Mar&quot;</td><td>2022</td><td>9.0</td><td>-62</td></tr><tr><td>1</td><td>&quot;Apr&quot;</td><td>2022</td><td>9.1</td><td>86</td></tr><tr><td>1</td><td>&quot;May&quot;</td><td>2022</td><td>10.1</td><td>-51</td></tr><tr><td>1</td><td>&quot;Jun&quot;</td><td>2022</td><td>10.1</td><td>-28</td></tr><tr><td>1</td><td>&quot;Jul&quot;</td><td>2022</td><td>10.3</td><td>-41</td></tr><tr><td>1</td><td>&quot;Aug&quot;</td><td>2022</td><td>9.7</td><td>79</td></tr><tr><td>1</td><td>&quot;Sep&quot;</td><td>2022</td><td>8.7</td><td>-55</td></tr><tr><td>1</td><td>&quot;Oct&quot;</td><td>2022</td><td>9.0</td><td>13</td></tr><tr><td>1</td><td>&quot;Nov&quot;</td><td>2022</td><td>8.3</td><td>10</td></tr><tr><td>1</td><td>&quot;Dec&quot;</td><td>2022</td><td>8.6</td><td>10</td></tr><tr><td>...</td><td>...</td><td>...</td><td>...</td><td>...</td></tr><tr><td>31</td><td>&quot;Jan&quot;</td><td>2022</td><td>8.3</td><td>67</td></tr><tr><td>31</td><td>&quot;Feb&quot;</td><td>2022</td><td>8.9</td><td>-20</td></tr><tr><td>31</td><td>&quot;Mar&quot;</td><td>2022</td><td>9.0</td><td>-62</td></tr><tr><td>31</td><td>&quot;Apr&quot;</td><td>2022</td><td>9.1</td><td>86</td></tr><tr><td>31</td><td>&quot;May&quot;</td><td>2022</td><td>10.1</td><td>-51</td></tr><tr><td>31</td><td>&quot;Jun&quot;</td><td>2022</td><td>10.1</td><td>-28</td></tr><tr><td>31</td><td>&quot;Jul&quot;</td><td>2022</td><td>10.3</td><td>-41</td></tr><tr><td>31</td><td>&quot;Aug&quot;</td><td>2022</td><td>9.7</td><td>79</td></tr><tr><td>31</td><td>&quot;Sep&quot;</td><td>2022</td><td>8.7</td><td>-55</td></tr><tr><td>31</td><td>&quot;Oct&quot;</td><td>2022</td><td>9.0</td><td>13</td></tr><tr><td>31</td><td>&quot;Nov&quot;</td><td>2022</td><td>8.3</td><td>10</td></tr><tr><td>31</td><td>&quot;Dec&quot;</td><td>2022</td><td>8.6</td><td>10</td></tr></tbody></table></div>"
      ],
      "text/plain": [
       "shape: (372, 5)\n",
       "┌──────────────┬───────┬──────┬─────────────────┬─────────────────────┐\n",
       "│ DAY_OF_MONTH ┆ MONTH ┆ YEAR ┆ Mean_Wind_Speed ┆ Mean_Wind_Direction │\n",
       "│ ---          ┆ ---   ┆ ---  ┆ ---             ┆ ---                 │\n",
       "│ i64          ┆ str   ┆ i32  ┆ f64             ┆ i64                 │\n",
       "╞══════════════╪═══════╪══════╪═════════════════╪═════════════════════╡\n",
       "│ 1            ┆ Jan   ┆ 2022 ┆ 8.3             ┆ 67                  │\n",
       "│ 1            ┆ Feb   ┆ 2022 ┆ 8.9             ┆ -20                 │\n",
       "│ 1            ┆ Mar   ┆ 2022 ┆ 9.0             ┆ -62                 │\n",
       "│ 1            ┆ Apr   ┆ 2022 ┆ 9.1             ┆ 86                  │\n",
       "│ ...          ┆ ...   ┆ ...  ┆ ...             ┆ ...                 │\n",
       "│ 31           ┆ Sep   ┆ 2022 ┆ 8.7             ┆ -55                 │\n",
       "│ 31           ┆ Oct   ┆ 2022 ┆ 9.0             ┆ 13                  │\n",
       "│ 31           ┆ Nov   ┆ 2022 ┆ 8.3             ┆ 10                  │\n",
       "│ 31           ┆ Dec   ┆ 2022 ┆ 8.6             ┆ 10                  │\n",
       "└──────────────┴───────┴──────┴─────────────────┴─────────────────────┘"
      ]
     },
     "execution_count": 10,
     "metadata": {},
     "output_type": "execute_result"
    }
   ],
   "source": [
    "merged_cis_d_wind"
   ]
  },
  {
   "attachments": {},
   "cell_type": "markdown",
   "metadata": {},
   "source": [
    "# PRESSURE"
   ]
  },
  {
   "cell_type": "code",
   "execution_count": 177,
   "metadata": {},
   "outputs": [],
   "source": [
    "def get_mean_press(year,month):\n",
    "    sorted_filtered_cis_3h_presmsl = (\n",
    "        cis_3h_presmsl.filter(p.col('HOURS') == \"22:00\")\n",
    "        .select(p.col([\"DAY_OF_MONTH\",\"Mean_of_Day\"]))\n",
    "        .with_columns([\n",
    "            p.lit(month).alias(\"MONTH\"), \n",
    "            p.lit(year).alias(\"YEAR\")\n",
    "        ])\n",
    "        .sort(\"DAY_OF_MONTH\")\n",
    "        .rename({\"Mean_of_Day\":\"Mean_Pressure_Day\"})\n",
    "        .select(\n",
    "            p.col(\"DAY_OF_MONTH\"),\n",
    "            p.col(\"MONTH\"),\n",
    "            p.col(\"YEAR\"),\n",
    "            p.col(\"Mean_Pressure_Day\")\n",
    "        )\n",
    "    )\n",
    "    return sorted_filtered_cis_3h_presmsl"
   ]
  },
  {
   "cell_type": "code",
   "execution_count": 4,
   "metadata": {},
   "outputs": [],
   "source": [
    "sorted_filtered_cis_3h_presmsl = (\n",
    "    cis_3h_presmsl.filter(p.col('HOURS') == \"22:00\")\n",
    "    .select(p.col([\"DAY_OF_MONTH\",\"Mean_of_Day\"]))\n",
    "    .with_columns([\n",
    "        p.lit(\"Jan\").alias(\"MONTH\"), \n",
    "        p.lit(2022).alias(\"YEAR\")\n",
    "    ])\n",
    "    .sort(\"DAY_OF_MONTH\")\n",
    "    .rename({\"Mean_of_Day\":\"Mean_Pressure_Day\"})\n",
    "    .select(\n",
    "        p.col(\"DAY_OF_MONTH\"),\n",
    "        p.col(\"MONTH\"),\n",
    "        p.col(\"YEAR\"),\n",
    "        p.col(\"Mean_Pressure_Day\")\n",
    "    )\n",
    ")\n"
   ]
  },
  {
   "cell_type": "code",
   "execution_count": 12,
   "metadata": {},
   "outputs": [
    {
     "data": {
      "text/html": [
       "<div><style>\n",
       ".dataframe > thead > tr > th,\n",
       ".dataframe > tbody > tr > td {\n",
       "  text-align: right;\n",
       "}\n",
       "</style>\n",
       "<small>shape: (31, 4)</small><table border=\"1\" class=\"dataframe\"><thead><tr><th>DAY_OF_MONTH</th><th>MONTH</th><th>YEAR</th><th>Mean_Pressure_Day</th></tr><tr><td>i64</td><td>str</td><td>i32</td><td>f64</td></tr></thead><tbody><tr><td>1</td><td>&quot;Jan&quot;</td><td>2022</td><td>1009.7</td></tr><tr><td>2</td><td>&quot;Jan&quot;</td><td>2022</td><td>1009.2</td></tr><tr><td>3</td><td>&quot;Jan&quot;</td><td>2022</td><td>1009.5</td></tr><tr><td>4</td><td>&quot;Jan&quot;</td><td>2022</td><td>1009.9</td></tr><tr><td>5</td><td>&quot;Jan&quot;</td><td>2022</td><td>1010.3</td></tr><tr><td>6</td><td>&quot;Jan&quot;</td><td>2022</td><td>1010.0</td></tr><tr><td>7</td><td>&quot;Jan&quot;</td><td>2022</td><td>1010.1</td></tr><tr><td>8</td><td>&quot;Jan&quot;</td><td>2022</td><td>1010.1</td></tr><tr><td>9</td><td>&quot;Jan&quot;</td><td>2022</td><td>1009.7</td></tr><tr><td>10</td><td>&quot;Jan&quot;</td><td>2022</td><td>1009.5</td></tr><tr><td>11</td><td>&quot;Jan&quot;</td><td>2022</td><td>1010.3</td></tr><tr><td>12</td><td>&quot;Jan&quot;</td><td>2022</td><td>1010.8</td></tr><tr><td>...</td><td>...</td><td>...</td><td>...</td></tr><tr><td>20</td><td>&quot;Jan&quot;</td><td>2022</td><td>1010.9</td></tr><tr><td>21</td><td>&quot;Jan&quot;</td><td>2022</td><td>1010.2</td></tr><tr><td>22</td><td>&quot;Jan&quot;</td><td>2022</td><td>1010.2</td></tr><tr><td>23</td><td>&quot;Jan&quot;</td><td>2022</td><td>1010.5</td></tr><tr><td>24</td><td>&quot;Jan&quot;</td><td>2022</td><td>1012.5</td></tr><tr><td>25</td><td>&quot;Jan&quot;</td><td>2022</td><td>1014.6</td></tr><tr><td>26</td><td>&quot;Jan&quot;</td><td>2022</td><td>1015.2</td></tr><tr><td>27</td><td>&quot;Jan&quot;</td><td>2022</td><td>1014.8</td></tr><tr><td>28</td><td>&quot;Jan&quot;</td><td>2022</td><td>1014.6</td></tr><tr><td>29</td><td>&quot;Jan&quot;</td><td>2022</td><td>1015.1</td></tr><tr><td>30</td><td>&quot;Jan&quot;</td><td>2022</td><td>1015.9</td></tr><tr><td>31</td><td>&quot;Jan&quot;</td><td>2022</td><td>1015.9</td></tr></tbody></table></div>"
      ],
      "text/plain": [
       "shape: (31, 4)\n",
       "┌──────────────┬───────┬──────┬───────────────────┐\n",
       "│ DAY_OF_MONTH ┆ MONTH ┆ YEAR ┆ Mean_Pressure_Day │\n",
       "│ ---          ┆ ---   ┆ ---  ┆ ---               │\n",
       "│ i64          ┆ str   ┆ i32  ┆ f64               │\n",
       "╞══════════════╪═══════╪══════╪═══════════════════╡\n",
       "│ 1            ┆ Jan   ┆ 2022 ┆ 1009.7            │\n",
       "│ 2            ┆ Jan   ┆ 2022 ┆ 1009.2            │\n",
       "│ 3            ┆ Jan   ┆ 2022 ┆ 1009.5            │\n",
       "│ 4            ┆ Jan   ┆ 2022 ┆ 1009.9            │\n",
       "│ ...          ┆ ...   ┆ ...  ┆ ...               │\n",
       "│ 28           ┆ Jan   ┆ 2022 ┆ 1014.6            │\n",
       "│ 29           ┆ Jan   ┆ 2022 ┆ 1015.1            │\n",
       "│ 30           ┆ Jan   ┆ 2022 ┆ 1015.9            │\n",
       "│ 31           ┆ Jan   ┆ 2022 ┆ 1015.9            │\n",
       "└──────────────┴───────┴──────┴───────────────────┘"
      ]
     },
     "execution_count": 12,
     "metadata": {},
     "output_type": "execute_result"
    }
   ],
   "source": [
    "sorted_filtered_cis_3h_presmsl"
   ]
  },
  {
   "attachments": {},
   "cell_type": "markdown",
   "metadata": {},
   "source": [
    "# HUMID"
   ]
  },
  {
   "cell_type": "code",
   "execution_count": 178,
   "metadata": {},
   "outputs": [],
   "source": [
    "def get_mean_humi(year,month):\n",
    "    sorted_filtered_cis_3h_hu = (\n",
    "        cis_3h_hu.filter(p.col('HOURS') == \"22:00\")\n",
    "        .select(p.col([\"DAY_OF_MONTH\",\"Mean_of_Day\"]))\n",
    "        .with_columns([\n",
    "            p.lit(month).alias(\"MONTH\"), \n",
    "            p.lit(year).alias(\"YEAR\")\n",
    "        ])\n",
    "        .sort(\"DAY_OF_MONTH\")\n",
    "        .rename({\"Mean_of_Day\":\"Mean_Humid_Day\"})\n",
    "        .select(\n",
    "            p.col(\"DAY_OF_MONTH\"),\n",
    "            p.col(\"MONTH\"),\n",
    "            p.col(\"YEAR\"),\n",
    "            p.col(\"Mean_Humid_Day\")\n",
    "        )\n",
    "    )\n",
    "    return sorted_filtered_cis_3h_hu"
   ]
  },
  {
   "cell_type": "code",
   "execution_count": 5,
   "metadata": {},
   "outputs": [],
   "source": [
    "sorted_filtered_cis_3h_hu = (\n",
    "    cis_3h_hu.filter(p.col('HOURS') == \"22:00\")\n",
    "    .select(p.col([\"DAY_OF_MONTH\",\"Mean_of_Day\"]))\n",
    "    .with_columns([\n",
    "        p.lit(\"Jan\").alias(\"MONTH\"), \n",
    "        p.lit(2022).alias(\"YEAR\")\n",
    "    ])\n",
    "    .sort(\"DAY_OF_MONTH\")\n",
    "    .rename({\"Mean_of_Day\":\"Mean_Humid_Day\"})\n",
    "    .select(\n",
    "        p.col(\"DAY_OF_MONTH\"),\n",
    "        p.col(\"MONTH\"),\n",
    "        p.col(\"YEAR\"),\n",
    "        p.col(\"Mean_Humid_Day\")\n",
    "    )\n",
    ")\n"
   ]
  },
  {
   "cell_type": "code",
   "execution_count": 13,
   "metadata": {},
   "outputs": [
    {
     "data": {
      "text/html": [
       "<div><style>\n",
       ".dataframe > thead > tr > th,\n",
       ".dataframe > tbody > tr > td {\n",
       "  text-align: right;\n",
       "}\n",
       "</style>\n",
       "<small>shape: (31, 4)</small><table border=\"1\" class=\"dataframe\"><thead><tr><th>DAY_OF_MONTH</th><th>MONTH</th><th>YEAR</th><th>Mean_Humid_Day</th></tr><tr><td>i64</td><td>str</td><td>i32</td><td>i64</td></tr></thead><tbody><tr><td>1</td><td>&quot;Jan&quot;</td><td>2022</td><td>78</td></tr><tr><td>2</td><td>&quot;Jan&quot;</td><td>2022</td><td>73</td></tr><tr><td>3</td><td>&quot;Jan&quot;</td><td>2022</td><td>67</td></tr><tr><td>4</td><td>&quot;Jan&quot;</td><td>2022</td><td>69</td></tr><tr><td>5</td><td>&quot;Jan&quot;</td><td>2022</td><td>70</td></tr><tr><td>6</td><td>&quot;Jan&quot;</td><td>2022</td><td>68</td></tr><tr><td>7</td><td>&quot;Jan&quot;</td><td>2022</td><td>65</td></tr><tr><td>8</td><td>&quot;Jan&quot;</td><td>2022</td><td>70</td></tr><tr><td>9</td><td>&quot;Jan&quot;</td><td>2022</td><td>70</td></tr><tr><td>10</td><td>&quot;Jan&quot;</td><td>2022</td><td>74</td></tr><tr><td>11</td><td>&quot;Jan&quot;</td><td>2022</td><td>67</td></tr><tr><td>12</td><td>&quot;Jan&quot;</td><td>2022</td><td>64</td></tr><tr><td>...</td><td>...</td><td>...</td><td>...</td></tr><tr><td>20</td><td>&quot;Jan&quot;</td><td>2022</td><td>56</td></tr><tr><td>21</td><td>&quot;Jan&quot;</td><td>2022</td><td>60</td></tr><tr><td>22</td><td>&quot;Jan&quot;</td><td>2022</td><td>72</td></tr><tr><td>23</td><td>&quot;Jan&quot;</td><td>2022</td><td>66</td></tr><tr><td>24</td><td>&quot;Jan&quot;</td><td>2022</td><td>60</td></tr><tr><td>25</td><td>&quot;Jan&quot;</td><td>2022</td><td>62</td></tr><tr><td>26</td><td>&quot;Jan&quot;</td><td>2022</td><td>60</td></tr><tr><td>27</td><td>&quot;Jan&quot;</td><td>2022</td><td>64</td></tr><tr><td>28</td><td>&quot;Jan&quot;</td><td>2022</td><td>63</td></tr><tr><td>29</td><td>&quot;Jan&quot;</td><td>2022</td><td>65</td></tr><tr><td>30</td><td>&quot;Jan&quot;</td><td>2022</td><td>64</td></tr><tr><td>31</td><td>&quot;Jan&quot;</td><td>2022</td><td>63</td></tr></tbody></table></div>"
      ],
      "text/plain": [
       "shape: (31, 4)\n",
       "┌──────────────┬───────┬──────┬────────────────┐\n",
       "│ DAY_OF_MONTH ┆ MONTH ┆ YEAR ┆ Mean_Humid_Day │\n",
       "│ ---          ┆ ---   ┆ ---  ┆ ---            │\n",
       "│ i64          ┆ str   ┆ i32  ┆ i64            │\n",
       "╞══════════════╪═══════╪══════╪════════════════╡\n",
       "│ 1            ┆ Jan   ┆ 2022 ┆ 78             │\n",
       "│ 2            ┆ Jan   ┆ 2022 ┆ 73             │\n",
       "│ 3            ┆ Jan   ┆ 2022 ┆ 67             │\n",
       "│ 4            ┆ Jan   ┆ 2022 ┆ 69             │\n",
       "│ ...          ┆ ...   ┆ ...  ┆ ...            │\n",
       "│ 28           ┆ Jan   ┆ 2022 ┆ 63             │\n",
       "│ 29           ┆ Jan   ┆ 2022 ┆ 65             │\n",
       "│ 30           ┆ Jan   ┆ 2022 ┆ 64             │\n",
       "│ 31           ┆ Jan   ┆ 2022 ┆ 63             │\n",
       "└──────────────┴───────┴──────┴────────────────┘"
      ]
     },
     "execution_count": 13,
     "metadata": {},
     "output_type": "execute_result"
    }
   ],
   "source": [
    "sorted_filtered_cis_3h_hu"
   ]
  },
  {
   "attachments": {},
   "cell_type": "markdown",
   "metadata": {},
   "source": [
    "# MIN"
   ]
  },
  {
   "cell_type": "code",
   "execution_count": 179,
   "metadata": {},
   "outputs": [],
   "source": [
    "def get_min_temp(year):\n",
    "    sorted_filtered_cis_d_mintemp = (\n",
    "        cis_d_mintemp.select(p.col([\"DAY_OF_MONTH\",\"MONTH\",\"Daily_Min_Temp\"]))\n",
    "        .with_columns([\n",
    "            p.lit(year).alias(\"YEAR\")\n",
    "        ])\n",
    "        .sort(\"DAY_OF_MONTH\")\n",
    "        .select(\n",
    "            p.col(\"DAY_OF_MONTH\"),\n",
    "            p.col(\"MONTH\"),\n",
    "            p.col(\"YEAR\"),\n",
    "            p.col(\"Daily_Min_Temp\")\n",
    "        )\n",
    "    )\n",
    "    return sorted_filtered_cis_d_mintemp"
   ]
  },
  {
   "cell_type": "code",
   "execution_count": 6,
   "metadata": {},
   "outputs": [],
   "source": [
    "sorted_filtered_cis_d_mintemp = (\n",
    "    cis_d_mintemp.select(p.col([\"DAY_OF_MONTH\",\"MONTH\",\"Daily_Min_Temp\"]))\n",
    "    .with_columns([\n",
    "        p.lit(2022).alias(\"YEAR\")\n",
    "    ])\n",
    "    .sort(\"DAY_OF_MONTH\")\n",
    "    .select(\n",
    "        p.col(\"DAY_OF_MONTH\"),\n",
    "        p.col(\"MONTH\"),\n",
    "        p.col(\"YEAR\"),\n",
    "        p.col(\"Daily_Min_Temp\")\n",
    "    )\n",
    ")\n"
   ]
  },
  {
   "cell_type": "code",
   "execution_count": null,
   "metadata": {},
   "outputs": [],
   "source": [
    "sorted_filtered_cis_d_mintemp"
   ]
  },
  {
   "attachments": {},
   "cell_type": "markdown",
   "metadata": {},
   "source": [
    "# MAX"
   ]
  },
  {
   "cell_type": "code",
   "execution_count": 180,
   "metadata": {},
   "outputs": [],
   "source": [
    "def get_max_temp(year):\n",
    "    sorted_filtered_cis_d_maxtemp = (\n",
    "        cis_d_maxtemp.select(p.col([\"DAY_OF_MONTH\",\"MONTH\",\"Daily_Max_Temp\"]))\n",
    "        .with_columns([\n",
    "            p.lit(year).alias(\"YEAR\")\n",
    "        ])\n",
    "        .sort(\"DAY_OF_MONTH\")\n",
    "        .select(\n",
    "            p.col(\"DAY_OF_MONTH\"),\n",
    "            p.col(\"MONTH\"),\n",
    "            p.col(\"YEAR\"),\n",
    "            p.col(\"Daily_Max_Temp\")\n",
    "        )\n",
    "    )\n",
    "    return sorted_filtered_cis_d_maxtemp"
   ]
  },
  {
   "cell_type": "code",
   "execution_count": 7,
   "metadata": {},
   "outputs": [],
   "source": [
    "sorted_filtered_cis_d_maxtemp = (\n",
    "    cis_d_maxtemp.select(p.col([\"DAY_OF_MONTH\",\"MONTH\",\"Daily_Max_Temp\"]))\n",
    "    .with_columns([\n",
    "        p.lit(2022).alias(\"YEAR\")\n",
    "    ])\n",
    "    .sort(\"DAY_OF_MONTH\")\n",
    "    .select(\n",
    "        p.col(\"DAY_OF_MONTH\"),\n",
    "        p.col(\"MONTH\"),\n",
    "        p.col(\"YEAR\"),\n",
    "        p.col(\"Daily_Max_Temp\")\n",
    "    )\n",
    ")\n"
   ]
  },
  {
   "cell_type": "code",
   "execution_count": 41,
   "metadata": {},
   "outputs": [
    {
     "data": {
      "text/html": [
       "<div><style>\n",
       ".dataframe > thead > tr > th,\n",
       ".dataframe > tbody > tr > td {\n",
       "  text-align: right;\n",
       "}\n",
       "</style>\n",
       "<small>shape: (372, 4)</small><table border=\"1\" class=\"dataframe\"><thead><tr><th>DAY_OF_MONTH</th><th>MONTH</th><th>YEAR</th><th>Daily_Min_Temp</th></tr><tr><td>i64</td><td>str</td><td>i32</td><td>f64</td></tr></thead><tbody><tr><td>1</td><td>&quot;Jan&quot;</td><td>2022</td><td>22.4</td></tr><tr><td>1</td><td>&quot;Feb&quot;</td><td>2022</td><td>26.4</td></tr><tr><td>1</td><td>&quot;Mar&quot;</td><td>2022</td><td>26.7</td></tr><tr><td>1</td><td>&quot;Apr&quot;</td><td>2022</td><td>27.2</td></tr><tr><td>1</td><td>&quot;May&quot;</td><td>2022</td><td>27.2</td></tr><tr><td>1</td><td>&quot;Jun&quot;</td><td>2022</td><td>27.2</td></tr><tr><td>1</td><td>&quot;Jul&quot;</td><td>2022</td><td>27.6</td></tr><tr><td>1</td><td>&quot;Aug&quot;</td><td>2022</td><td>25.5</td></tr><tr><td>1</td><td>&quot;Sep&quot;</td><td>2022</td><td>24.7</td></tr><tr><td>1</td><td>&quot;Oct&quot;</td><td>2022</td><td>26.8</td></tr><tr><td>1</td><td>&quot;Nov&quot;</td><td>2022</td><td>24.4</td></tr><tr><td>1</td><td>&quot;Dec&quot;</td><td>2022</td><td>25.3</td></tr><tr><td>...</td><td>...</td><td>...</td><td>...</td></tr><tr><td>31</td><td>&quot;Jan&quot;</td><td>2022</td><td>25.2</td></tr><tr><td>31</td><td>&quot;Feb&quot;</td><td>2022</td><td>null</td></tr><tr><td>31</td><td>&quot;Mar&quot;</td><td>2022</td><td>27.5</td></tr><tr><td>31</td><td>&quot;Apr&quot;</td><td>2022</td><td>null</td></tr><tr><td>31</td><td>&quot;May&quot;</td><td>2022</td><td>27.6</td></tr><tr><td>31</td><td>&quot;Jun&quot;</td><td>2022</td><td>null</td></tr><tr><td>31</td><td>&quot;Jul&quot;</td><td>2022</td><td>28.2</td></tr><tr><td>31</td><td>&quot;Aug&quot;</td><td>2022</td><td>26.5</td></tr><tr><td>31</td><td>&quot;Sep&quot;</td><td>2022</td><td>null</td></tr><tr><td>31</td><td>&quot;Oct&quot;</td><td>2022</td><td>26.4</td></tr><tr><td>31</td><td>&quot;Nov&quot;</td><td>2022</td><td>null</td></tr><tr><td>31</td><td>&quot;Dec&quot;</td><td>2022</td><td>21.4</td></tr></tbody></table></div>"
      ],
      "text/plain": [
       "shape: (372, 4)\n",
       "┌──────────────┬───────┬──────┬────────────────┐\n",
       "│ DAY_OF_MONTH ┆ MONTH ┆ YEAR ┆ Daily_Min_Temp │\n",
       "│ ---          ┆ ---   ┆ ---  ┆ ---            │\n",
       "│ i64          ┆ str   ┆ i32  ┆ f64            │\n",
       "╞══════════════╪═══════╪══════╪════════════════╡\n",
       "│ 1            ┆ Jan   ┆ 2022 ┆ 22.4           │\n",
       "│ 1            ┆ Feb   ┆ 2022 ┆ 26.4           │\n",
       "│ 1            ┆ Mar   ┆ 2022 ┆ 26.7           │\n",
       "│ 1            ┆ Apr   ┆ 2022 ┆ 27.2           │\n",
       "│ ...          ┆ ...   ┆ ...  ┆ ...            │\n",
       "│ 31           ┆ Sep   ┆ 2022 ┆ null           │\n",
       "│ 31           ┆ Oct   ┆ 2022 ┆ 26.4           │\n",
       "│ 31           ┆ Nov   ┆ 2022 ┆ null           │\n",
       "│ 31           ┆ Dec   ┆ 2022 ┆ 21.4           │\n",
       "└──────────────┴───────┴──────┴────────────────┘"
      ]
     },
     "execution_count": 41,
     "metadata": {},
     "output_type": "execute_result"
    }
   ],
   "source": [
    "sorted_filtered_cis_d_mintemp"
   ]
  },
  {
   "attachments": {},
   "cell_type": "markdown",
   "metadata": {},
   "source": [
    "# Merge Temp"
   ]
  },
  {
   "cell_type": "code",
   "execution_count": 181,
   "metadata": {},
   "outputs": [],
   "source": [
    "def get_merge_temp(sorted_filtered_cis_d_mintemp,sorted_filtered_cis_d_maxtemp):\n",
    "    merge_temp = sorted_filtered_cis_d_mintemp.join(sorted_filtered_cis_d_maxtemp, on=[\"DAY_OF_MONTH\",\"MONTH\"], how=\"left\")\n",
    "    merge_temp = (\n",
    "        merge_temp.select(p.col([\"DAY_OF_MONTH\",\"MONTH\",\"YEAR\",\"Daily_Min_Temp\",\"Daily_Max_Temp\"]))\n",
    "        .with_columns([\n",
    "            ((p.col(\"Daily_Min_Temp\") + p.col(\"Daily_Max_Temp\")) / 2).alias(\"Daily_Mean_Temp\")\n",
    "        ])\n",
    "    )\n",
    "    return merge_temp"
   ]
  },
  {
   "cell_type": "code",
   "execution_count": 46,
   "metadata": {},
   "outputs": [],
   "source": [
    "merge_temp = sorted_filtered_cis_d_mintemp.join(sorted_filtered_cis_d_maxtemp, on=[\"DAY_OF_MONTH\",\"MONTH\"], how=\"left\")"
   ]
  },
  {
   "cell_type": "code",
   "execution_count": 47,
   "metadata": {},
   "outputs": [],
   "source": [
    "merge_temp = (\n",
    "    merge_temp.select(p.col([\"DAY_OF_MONTH\",\"MONTH\",\"YEAR\",\"Daily_Min_Temp\",\"Daily_Max_Temp\"]))\n",
    "    .with_columns([\n",
    "        ((p.col(\"Daily_Min_Temp\") + p.col(\"Daily_Max_Temp\")) / 2).alias(\"Daily_Mean_Temp\")\n",
    "    ])\n",
    ")\n"
   ]
  },
  {
   "attachments": {},
   "cell_type": "markdown",
   "metadata": {},
   "source": [
    "# WHOLE"
   ]
  },
  {
   "cell_type": "code",
   "execution_count": 174,
   "metadata": {},
   "outputs": [],
   "source": [
    "def get_whole(sorted_filtered_cis_3h_presmsl,merge_temp,merged_cis_d_wind,sorted_filtered_cis_3h_hu):\n",
    "    final_data = (\n",
    "        sorted_filtered_cis_3h_presmsl\n",
    "        .join(merge_temp.select(p.exclude(\"YEAR\")).with_columns(p.col(\"MONTH\").map_dict(month_dict)).sort(\"MONTH\").with_columns(p.col(\"MONTH\").map_dict(month_reverse_dict)), on=[\"DAY_OF_MONTH\",\"MONTH\"], how=\"inner\")\n",
    "        .join(merged_cis_d_wind.select(p.exclude(\"YEAR\")).with_columns(p.col(\"MONTH\").map_dict(month_dict)).sort(\"MONTH\").with_columns(p.col(\"MONTH\").map_dict(month_reverse_dict)), on=[\"DAY_OF_MONTH\",\"MONTH\"], how=\"inner\")\n",
    "        .join(sorted_filtered_cis_3h_hu.select(p.exclude(\"YEAR\")).with_columns(p.col(\"MONTH\").map_dict(month_dict)).sort(\"MONTH\").with_columns(p.col(\"MONTH\").map_dict(month_reverse_dict)), on=[\"DAY_OF_MONTH\",\"MONTH\"], how=\"inner\")\n",
    "    )\n",
    "    return final_data"
   ]
  },
  {
   "cell_type": "code",
   "execution_count": 159,
   "metadata": {},
   "outputs": [],
   "source": [
    "final_data = (\n",
    "    sorted_filtered_cis_3h_presmsl\n",
    "    .join(merge_temp.select(p.exclude(\"YEAR\")).with_columns(p.col(\"MONTH\").map_dict(month_dict)).sort(\"MONTH\").with_columns(p.col(\"MONTH\").map_dict(month_reverse_dict)), on=[\"DAY_OF_MONTH\",\"MONTH\"], how=\"inner\")\n",
    "    .join(merged_cis_d_wind.select(p.exclude(\"YEAR\")).with_columns(p.col(\"MONTH\").map_dict(month_dict)).sort(\"MONTH\").with_columns(p.col(\"MONTH\").map_dict(month_reverse_dict)), on=[\"DAY_OF_MONTH\",\"MONTH\"], how=\"inner\")\n",
    "    .join(sorted_filtered_cis_3h_hu.select(p.exclude(\"YEAR\")).with_columns(p.col(\"MONTH\").map_dict(month_dict)).sort(\"MONTH\").with_columns(p.col(\"MONTH\").map_dict(month_reverse_dict)), on=[\"DAY_OF_MONTH\",\"MONTH\"], how=\"inner\")\n",
    ")"
   ]
  },
  {
   "attachments": {},
   "cell_type": "markdown",
   "metadata": {},
   "source": [
    "# DEMO WHOLE CALLED"
   ]
  },
  {
   "cell_type": "code",
   "execution_count": 184,
   "metadata": {},
   "outputs": [],
   "source": [
    "def get_all(year,month):\n",
    "    data = get_whole(get_mean_press(year,month),get_merge_temp(get_min_temp(year),get_max_temp(year)),get_wind(year),get_mean_humi(year,month))\n",
    "    return data"
   ]
  },
  {
   "cell_type": "code",
   "execution_count": 185,
   "metadata": {},
   "outputs": [],
   "source": [
    "year = 2022\n",
    "month = \"Jan\"\n",
    "# create a dictionary to map month strings to integer values\n",
    "month_dict = {\"Jan\": 1, \"Feb\": 2, \"Mar\": 3, \"Apr\": 4, \"May\": 5, \"Jun\": 6, \"Jul\": 7, \"Aug\": 8, \"Sep\": 9, \"Oct\": 10, \"Nov\": 11, \"Dec\": 12}\n",
    "month_reverse_dict = {v: k for k, v in month_dict.items()}\n",
    "data = get_all(year,month)"
   ]
  },
  {
   "attachments": {},
   "cell_type": "markdown",
   "metadata": {},
   "source": [
    "# QA Check"
   ]
  },
  {
   "cell_type": "code",
   "execution_count": 190,
   "metadata": {},
   "outputs": [],
   "source": [
    "from polars.testing import assert_frame_equal"
   ]
  },
  {
   "cell_type": "code",
   "execution_count": 192,
   "metadata": {},
   "outputs": [
    {
     "name": "stdout",
     "output_type": "stream",
     "text": [
      "None\n"
     ]
    }
   ],
   "source": [
    "print(assert_frame_equal(data,final_data))"
   ]
  },
  {
   "cell_type": "code",
   "execution_count": 188,
   "metadata": {},
   "outputs": [
    {
     "data": {
      "text/html": [
       "<div><style>\n",
       ".dataframe > thead > tr > th,\n",
       ".dataframe > tbody > tr > td {\n",
       "  text-align: right;\n",
       "}\n",
       "</style>\n",
       "<small>shape: (31, 10)</small><table border=\"1\" class=\"dataframe\"><thead><tr><th>DAY_OF_MONTH</th><th>MONTH</th><th>YEAR</th><th>Mean_Pressure_Day</th><th>Daily_Min_Temp</th><th>Daily_Max_Temp</th><th>Daily_Mean_Temp</th><th>Mean_Wind_Speed</th><th>Mean_Wind_Direction</th><th>Mean_Humid_Day</th></tr><tr><td>i64</td><td>str</td><td>i32</td><td>f64</td><td>f64</td><td>f64</td><td>f64</td><td>f64</td><td>i64</td><td>i64</td></tr></thead><tbody><tr><td>1</td><td>&quot;Jan&quot;</td><td>2022</td><td>1009.7</td><td>22.4</td><td>30.6</td><td>26.5</td><td>8.3</td><td>67</td><td>78</td></tr><tr><td>2</td><td>&quot;Jan&quot;</td><td>2022</td><td>1009.2</td><td>22.3</td><td>31.1</td><td>26.7</td><td>8.3</td><td>67</td><td>73</td></tr><tr><td>3</td><td>&quot;Jan&quot;</td><td>2022</td><td>1009.5</td><td>22.4</td><td>31.7</td><td>27.05</td><td>8.3</td><td>67</td><td>67</td></tr><tr><td>4</td><td>&quot;Jan&quot;</td><td>2022</td><td>1009.9</td><td>23.4</td><td>32.8</td><td>28.1</td><td>8.3</td><td>67</td><td>69</td></tr><tr><td>5</td><td>&quot;Jan&quot;</td><td>2022</td><td>1010.3</td><td>22.4</td><td>33.9</td><td>28.15</td><td>8.3</td><td>67</td><td>70</td></tr><tr><td>6</td><td>&quot;Jan&quot;</td><td>2022</td><td>1010.0</td><td>21.9</td><td>34.4</td><td>28.15</td><td>8.3</td><td>67</td><td>68</td></tr><tr><td>7</td><td>&quot;Jan&quot;</td><td>2022</td><td>1010.1</td><td>23.2</td><td>34.4</td><td>28.8</td><td>8.3</td><td>67</td><td>65</td></tr><tr><td>8</td><td>&quot;Jan&quot;</td><td>2022</td><td>1010.1</td><td>23.3</td><td>34.5</td><td>28.9</td><td>8.3</td><td>67</td><td>70</td></tr><tr><td>9</td><td>&quot;Jan&quot;</td><td>2022</td><td>1009.7</td><td>22.3</td><td>34.0</td><td>28.15</td><td>8.3</td><td>67</td><td>70</td></tr><tr><td>10</td><td>&quot;Jan&quot;</td><td>2022</td><td>1009.5</td><td>22.6</td><td>35.4</td><td>29.0</td><td>8.3</td><td>67</td><td>74</td></tr><tr><td>11</td><td>&quot;Jan&quot;</td><td>2022</td><td>1010.3</td><td>22.7</td><td>35.1</td><td>28.9</td><td>8.3</td><td>67</td><td>67</td></tr><tr><td>12</td><td>&quot;Jan&quot;</td><td>2022</td><td>1010.8</td><td>22.5</td><td>33.1</td><td>27.8</td><td>8.3</td><td>67</td><td>64</td></tr><tr><td>...</td><td>...</td><td>...</td><td>...</td><td>...</td><td>...</td><td>...</td><td>...</td><td>...</td><td>...</td></tr><tr><td>20</td><td>&quot;Jan&quot;</td><td>2022</td><td>1010.9</td><td>23.8</td><td>33.4</td><td>28.6</td><td>8.3</td><td>67</td><td>56</td></tr><tr><td>21</td><td>&quot;Jan&quot;</td><td>2022</td><td>1010.2</td><td>25.5</td><td>31.4</td><td>28.45</td><td>8.3</td><td>67</td><td>60</td></tr><tr><td>22</td><td>&quot;Jan&quot;</td><td>2022</td><td>1010.2</td><td>24.0</td><td>31.7</td><td>27.85</td><td>8.3</td><td>67</td><td>72</td></tr><tr><td>23</td><td>&quot;Jan&quot;</td><td>2022</td><td>1010.5</td><td>23.4</td><td>34.0</td><td>28.7</td><td>8.3</td><td>67</td><td>66</td></tr><tr><td>24</td><td>&quot;Jan&quot;</td><td>2022</td><td>1012.5</td><td>24.2</td><td>33.4</td><td>28.8</td><td>8.3</td><td>67</td><td>60</td></tr><tr><td>25</td><td>&quot;Jan&quot;</td><td>2022</td><td>1014.6</td><td>23.6</td><td>35.2</td><td>29.4</td><td>8.3</td><td>67</td><td>62</td></tr><tr><td>26</td><td>&quot;Jan&quot;</td><td>2022</td><td>1015.2</td><td>24.4</td><td>33.6</td><td>29.0</td><td>8.3</td><td>67</td><td>60</td></tr><tr><td>27</td><td>&quot;Jan&quot;</td><td>2022</td><td>1014.8</td><td>25.2</td><td>32.7</td><td>28.95</td><td>8.3</td><td>67</td><td>64</td></tr><tr><td>28</td><td>&quot;Jan&quot;</td><td>2022</td><td>1014.6</td><td>24.8</td><td>33.2</td><td>29.0</td><td>8.3</td><td>67</td><td>63</td></tr><tr><td>29</td><td>&quot;Jan&quot;</td><td>2022</td><td>1015.1</td><td>24.2</td><td>33.6</td><td>28.9</td><td>8.3</td><td>67</td><td>65</td></tr><tr><td>30</td><td>&quot;Jan&quot;</td><td>2022</td><td>1015.9</td><td>25.1</td><td>35.6</td><td>30.35</td><td>8.3</td><td>67</td><td>64</td></tr><tr><td>31</td><td>&quot;Jan&quot;</td><td>2022</td><td>1015.9</td><td>25.2</td><td>33.2</td><td>29.2</td><td>8.3</td><td>67</td><td>63</td></tr></tbody></table></div>"
      ],
      "text/plain": [
       "shape: (31, 10)\n",
       "┌────────────┬───────┬──────┬────────────┬─────┬────────────┬────────────┬────────────┬────────────┐\n",
       "│ DAY_OF_MON ┆ MONTH ┆ YEAR ┆ Mean_Press ┆ ... ┆ Daily_Mean ┆ Mean_Wind_ ┆ Mean_Wind_ ┆ Mean_Humid │\n",
       "│ TH         ┆ ---   ┆ ---  ┆ ure_Day    ┆     ┆ _Temp      ┆ Speed      ┆ Direction  ┆ _Day       │\n",
       "│ ---        ┆ str   ┆ i32  ┆ ---        ┆     ┆ ---        ┆ ---        ┆ ---        ┆ ---        │\n",
       "│ i64        ┆       ┆      ┆ f64        ┆     ┆ f64        ┆ f64        ┆ i64        ┆ i64        │\n",
       "╞════════════╪═══════╪══════╪════════════╪═════╪════════════╪════════════╪════════════╪════════════╡\n",
       "│ 1          ┆ Jan   ┆ 2022 ┆ 1009.7     ┆ ... ┆ 26.5       ┆ 8.3        ┆ 67         ┆ 78         │\n",
       "│ 2          ┆ Jan   ┆ 2022 ┆ 1009.2     ┆ ... ┆ 26.7       ┆ 8.3        ┆ 67         ┆ 73         │\n",
       "│ 3          ┆ Jan   ┆ 2022 ┆ 1009.5     ┆ ... ┆ 27.05      ┆ 8.3        ┆ 67         ┆ 67         │\n",
       "│ 4          ┆ Jan   ┆ 2022 ┆ 1009.9     ┆ ... ┆ 28.1       ┆ 8.3        ┆ 67         ┆ 69         │\n",
       "│ ...        ┆ ...   ┆ ...  ┆ ...        ┆ ... ┆ ...        ┆ ...        ┆ ...        ┆ ...        │\n",
       "│ 28         ┆ Jan   ┆ 2022 ┆ 1014.6     ┆ ... ┆ 29.0       ┆ 8.3        ┆ 67         ┆ 63         │\n",
       "│ 29         ┆ Jan   ┆ 2022 ┆ 1015.1     ┆ ... ┆ 28.9       ┆ 8.3        ┆ 67         ┆ 65         │\n",
       "│ 30         ┆ Jan   ┆ 2022 ┆ 1015.9     ┆ ... ┆ 30.35      ┆ 8.3        ┆ 67         ┆ 64         │\n",
       "│ 31         ┆ Jan   ┆ 2022 ┆ 1015.9     ┆ ... ┆ 29.2       ┆ 8.3        ┆ 67         ┆ 63         │\n",
       "└────────────┴───────┴──────┴────────────┴─────┴────────────┴────────────┴────────────┴────────────┘"
      ]
     },
     "execution_count": 188,
     "metadata": {},
     "output_type": "execute_result"
    }
   ],
   "source": [
    "data"
   ]
  },
  {
   "cell_type": "code",
   "execution_count": 187,
   "metadata": {},
   "outputs": [
    {
     "data": {
      "text/html": [
       "<div><style>\n",
       ".dataframe > thead > tr > th,\n",
       ".dataframe > tbody > tr > td {\n",
       "  text-align: right;\n",
       "}\n",
       "</style>\n",
       "<small>shape: (31, 10)</small><table border=\"1\" class=\"dataframe\"><thead><tr><th>DAY_OF_MONTH</th><th>MONTH</th><th>YEAR</th><th>Mean_Pressure_Day</th><th>Daily_Min_Temp</th><th>Daily_Max_Temp</th><th>Daily_Mean_Temp</th><th>Mean_Wind_Speed</th><th>Mean_Wind_Direction</th><th>Mean_Humid_Day</th></tr><tr><td>i64</td><td>str</td><td>i32</td><td>f64</td><td>f64</td><td>f64</td><td>f64</td><td>f64</td><td>i64</td><td>i64</td></tr></thead><tbody><tr><td>1</td><td>&quot;Jan&quot;</td><td>2022</td><td>1009.7</td><td>22.4</td><td>30.6</td><td>26.5</td><td>8.3</td><td>67</td><td>78</td></tr><tr><td>2</td><td>&quot;Jan&quot;</td><td>2022</td><td>1009.2</td><td>22.3</td><td>31.1</td><td>26.7</td><td>8.3</td><td>67</td><td>73</td></tr><tr><td>3</td><td>&quot;Jan&quot;</td><td>2022</td><td>1009.5</td><td>22.4</td><td>31.7</td><td>27.05</td><td>8.3</td><td>67</td><td>67</td></tr><tr><td>4</td><td>&quot;Jan&quot;</td><td>2022</td><td>1009.9</td><td>23.4</td><td>32.8</td><td>28.1</td><td>8.3</td><td>67</td><td>69</td></tr><tr><td>5</td><td>&quot;Jan&quot;</td><td>2022</td><td>1010.3</td><td>22.4</td><td>33.9</td><td>28.15</td><td>8.3</td><td>67</td><td>70</td></tr><tr><td>6</td><td>&quot;Jan&quot;</td><td>2022</td><td>1010.0</td><td>21.9</td><td>34.4</td><td>28.15</td><td>8.3</td><td>67</td><td>68</td></tr><tr><td>7</td><td>&quot;Jan&quot;</td><td>2022</td><td>1010.1</td><td>23.2</td><td>34.4</td><td>28.8</td><td>8.3</td><td>67</td><td>65</td></tr><tr><td>8</td><td>&quot;Jan&quot;</td><td>2022</td><td>1010.1</td><td>23.3</td><td>34.5</td><td>28.9</td><td>8.3</td><td>67</td><td>70</td></tr><tr><td>9</td><td>&quot;Jan&quot;</td><td>2022</td><td>1009.7</td><td>22.3</td><td>34.0</td><td>28.15</td><td>8.3</td><td>67</td><td>70</td></tr><tr><td>10</td><td>&quot;Jan&quot;</td><td>2022</td><td>1009.5</td><td>22.6</td><td>35.4</td><td>29.0</td><td>8.3</td><td>67</td><td>74</td></tr><tr><td>11</td><td>&quot;Jan&quot;</td><td>2022</td><td>1010.3</td><td>22.7</td><td>35.1</td><td>28.9</td><td>8.3</td><td>67</td><td>67</td></tr><tr><td>12</td><td>&quot;Jan&quot;</td><td>2022</td><td>1010.8</td><td>22.5</td><td>33.1</td><td>27.8</td><td>8.3</td><td>67</td><td>64</td></tr><tr><td>...</td><td>...</td><td>...</td><td>...</td><td>...</td><td>...</td><td>...</td><td>...</td><td>...</td><td>...</td></tr><tr><td>20</td><td>&quot;Jan&quot;</td><td>2022</td><td>1010.9</td><td>23.8</td><td>33.4</td><td>28.6</td><td>8.3</td><td>67</td><td>56</td></tr><tr><td>21</td><td>&quot;Jan&quot;</td><td>2022</td><td>1010.2</td><td>25.5</td><td>31.4</td><td>28.45</td><td>8.3</td><td>67</td><td>60</td></tr><tr><td>22</td><td>&quot;Jan&quot;</td><td>2022</td><td>1010.2</td><td>24.0</td><td>31.7</td><td>27.85</td><td>8.3</td><td>67</td><td>72</td></tr><tr><td>23</td><td>&quot;Jan&quot;</td><td>2022</td><td>1010.5</td><td>23.4</td><td>34.0</td><td>28.7</td><td>8.3</td><td>67</td><td>66</td></tr><tr><td>24</td><td>&quot;Jan&quot;</td><td>2022</td><td>1012.5</td><td>24.2</td><td>33.4</td><td>28.8</td><td>8.3</td><td>67</td><td>60</td></tr><tr><td>25</td><td>&quot;Jan&quot;</td><td>2022</td><td>1014.6</td><td>23.6</td><td>35.2</td><td>29.4</td><td>8.3</td><td>67</td><td>62</td></tr><tr><td>26</td><td>&quot;Jan&quot;</td><td>2022</td><td>1015.2</td><td>24.4</td><td>33.6</td><td>29.0</td><td>8.3</td><td>67</td><td>60</td></tr><tr><td>27</td><td>&quot;Jan&quot;</td><td>2022</td><td>1014.8</td><td>25.2</td><td>32.7</td><td>28.95</td><td>8.3</td><td>67</td><td>64</td></tr><tr><td>28</td><td>&quot;Jan&quot;</td><td>2022</td><td>1014.6</td><td>24.8</td><td>33.2</td><td>29.0</td><td>8.3</td><td>67</td><td>63</td></tr><tr><td>29</td><td>&quot;Jan&quot;</td><td>2022</td><td>1015.1</td><td>24.2</td><td>33.6</td><td>28.9</td><td>8.3</td><td>67</td><td>65</td></tr><tr><td>30</td><td>&quot;Jan&quot;</td><td>2022</td><td>1015.9</td><td>25.1</td><td>35.6</td><td>30.35</td><td>8.3</td><td>67</td><td>64</td></tr><tr><td>31</td><td>&quot;Jan&quot;</td><td>2022</td><td>1015.9</td><td>25.2</td><td>33.2</td><td>29.2</td><td>8.3</td><td>67</td><td>63</td></tr></tbody></table></div>"
      ],
      "text/plain": [
       "shape: (31, 10)\n",
       "┌────────────┬───────┬──────┬────────────┬─────┬────────────┬────────────┬────────────┬────────────┐\n",
       "│ DAY_OF_MON ┆ MONTH ┆ YEAR ┆ Mean_Press ┆ ... ┆ Daily_Mean ┆ Mean_Wind_ ┆ Mean_Wind_ ┆ Mean_Humid │\n",
       "│ TH         ┆ ---   ┆ ---  ┆ ure_Day    ┆     ┆ _Temp      ┆ Speed      ┆ Direction  ┆ _Day       │\n",
       "│ ---        ┆ str   ┆ i32  ┆ ---        ┆     ┆ ---        ┆ ---        ┆ ---        ┆ ---        │\n",
       "│ i64        ┆       ┆      ┆ f64        ┆     ┆ f64        ┆ f64        ┆ i64        ┆ i64        │\n",
       "╞════════════╪═══════╪══════╪════════════╪═════╪════════════╪════════════╪════════════╪════════════╡\n",
       "│ 1          ┆ Jan   ┆ 2022 ┆ 1009.7     ┆ ... ┆ 26.5       ┆ 8.3        ┆ 67         ┆ 78         │\n",
       "│ 2          ┆ Jan   ┆ 2022 ┆ 1009.2     ┆ ... ┆ 26.7       ┆ 8.3        ┆ 67         ┆ 73         │\n",
       "│ 3          ┆ Jan   ┆ 2022 ┆ 1009.5     ┆ ... ┆ 27.05      ┆ 8.3        ┆ 67         ┆ 67         │\n",
       "│ 4          ┆ Jan   ┆ 2022 ┆ 1009.9     ┆ ... ┆ 28.1       ┆ 8.3        ┆ 67         ┆ 69         │\n",
       "│ ...        ┆ ...   ┆ ...  ┆ ...        ┆ ... ┆ ...        ┆ ...        ┆ ...        ┆ ...        │\n",
       "│ 28         ┆ Jan   ┆ 2022 ┆ 1014.6     ┆ ... ┆ 29.0       ┆ 8.3        ┆ 67         ┆ 63         │\n",
       "│ 29         ┆ Jan   ┆ 2022 ┆ 1015.1     ┆ ... ┆ 28.9       ┆ 8.3        ┆ 67         ┆ 65         │\n",
       "│ 30         ┆ Jan   ┆ 2022 ┆ 1015.9     ┆ ... ┆ 30.35      ┆ 8.3        ┆ 67         ┆ 64         │\n",
       "│ 31         ┆ Jan   ┆ 2022 ┆ 1015.9     ┆ ... ┆ 29.2       ┆ 8.3        ┆ 67         ┆ 63         │\n",
       "└────────────┴───────┴──────┴────────────┴─────┴────────────┴────────────┴────────────┴────────────┘"
      ]
     },
     "execution_count": 187,
     "metadata": {},
     "output_type": "execute_result"
    }
   ],
   "source": [
    "final_data"
   ]
  },
  {
   "cell_type": "code",
   "execution_count": 182,
   "metadata": {},
   "outputs": [
    {
     "data": {
      "text/html": [
       "<div><style>\n",
       ".dataframe > thead > tr > th,\n",
       ".dataframe > tbody > tr > td {\n",
       "  text-align: right;\n",
       "}\n",
       "</style>\n",
       "<small>shape: (31, 10)</small><table border=\"1\" class=\"dataframe\"><thead><tr><th>DAY_OF_MONTH</th><th>MONTH</th><th>YEAR</th><th>Mean_Pressure_Day</th><th>Daily_Min_Temp</th><th>Daily_Max_Temp</th><th>Daily_Mean_Temp</th><th>Mean_Wind_Speed</th><th>Mean_Wind_Direction</th><th>Mean_Humid_Day</th></tr><tr><td>i64</td><td>str</td><td>i32</td><td>f64</td><td>f64</td><td>f64</td><td>f64</td><td>f64</td><td>i64</td><td>i64</td></tr></thead><tbody><tr><td>1</td><td>&quot;Jan&quot;</td><td>2022</td><td>1009.7</td><td>22.4</td><td>30.6</td><td>26.5</td><td>8.3</td><td>67</td><td>78</td></tr><tr><td>2</td><td>&quot;Jan&quot;</td><td>2022</td><td>1009.2</td><td>22.3</td><td>31.1</td><td>26.7</td><td>8.3</td><td>67</td><td>73</td></tr><tr><td>3</td><td>&quot;Jan&quot;</td><td>2022</td><td>1009.5</td><td>22.4</td><td>31.7</td><td>27.05</td><td>8.3</td><td>67</td><td>67</td></tr><tr><td>4</td><td>&quot;Jan&quot;</td><td>2022</td><td>1009.9</td><td>23.4</td><td>32.8</td><td>28.1</td><td>8.3</td><td>67</td><td>69</td></tr><tr><td>5</td><td>&quot;Jan&quot;</td><td>2022</td><td>1010.3</td><td>22.4</td><td>33.9</td><td>28.15</td><td>8.3</td><td>67</td><td>70</td></tr><tr><td>6</td><td>&quot;Jan&quot;</td><td>2022</td><td>1010.0</td><td>21.9</td><td>34.4</td><td>28.15</td><td>8.3</td><td>67</td><td>68</td></tr><tr><td>7</td><td>&quot;Jan&quot;</td><td>2022</td><td>1010.1</td><td>23.2</td><td>34.4</td><td>28.8</td><td>8.3</td><td>67</td><td>65</td></tr><tr><td>8</td><td>&quot;Jan&quot;</td><td>2022</td><td>1010.1</td><td>23.3</td><td>34.5</td><td>28.9</td><td>8.3</td><td>67</td><td>70</td></tr><tr><td>9</td><td>&quot;Jan&quot;</td><td>2022</td><td>1009.7</td><td>22.3</td><td>34.0</td><td>28.15</td><td>8.3</td><td>67</td><td>70</td></tr><tr><td>10</td><td>&quot;Jan&quot;</td><td>2022</td><td>1009.5</td><td>22.6</td><td>35.4</td><td>29.0</td><td>8.3</td><td>67</td><td>74</td></tr><tr><td>11</td><td>&quot;Jan&quot;</td><td>2022</td><td>1010.3</td><td>22.7</td><td>35.1</td><td>28.9</td><td>8.3</td><td>67</td><td>67</td></tr><tr><td>12</td><td>&quot;Jan&quot;</td><td>2022</td><td>1010.8</td><td>22.5</td><td>33.1</td><td>27.8</td><td>8.3</td><td>67</td><td>64</td></tr><tr><td>...</td><td>...</td><td>...</td><td>...</td><td>...</td><td>...</td><td>...</td><td>...</td><td>...</td><td>...</td></tr><tr><td>20</td><td>&quot;Jan&quot;</td><td>2022</td><td>1010.9</td><td>23.8</td><td>33.4</td><td>28.6</td><td>8.3</td><td>67</td><td>56</td></tr><tr><td>21</td><td>&quot;Jan&quot;</td><td>2022</td><td>1010.2</td><td>25.5</td><td>31.4</td><td>28.45</td><td>8.3</td><td>67</td><td>60</td></tr><tr><td>22</td><td>&quot;Jan&quot;</td><td>2022</td><td>1010.2</td><td>24.0</td><td>31.7</td><td>27.85</td><td>8.3</td><td>67</td><td>72</td></tr><tr><td>23</td><td>&quot;Jan&quot;</td><td>2022</td><td>1010.5</td><td>23.4</td><td>34.0</td><td>28.7</td><td>8.3</td><td>67</td><td>66</td></tr><tr><td>24</td><td>&quot;Jan&quot;</td><td>2022</td><td>1012.5</td><td>24.2</td><td>33.4</td><td>28.8</td><td>8.3</td><td>67</td><td>60</td></tr><tr><td>25</td><td>&quot;Jan&quot;</td><td>2022</td><td>1014.6</td><td>23.6</td><td>35.2</td><td>29.4</td><td>8.3</td><td>67</td><td>62</td></tr><tr><td>26</td><td>&quot;Jan&quot;</td><td>2022</td><td>1015.2</td><td>24.4</td><td>33.6</td><td>29.0</td><td>8.3</td><td>67</td><td>60</td></tr><tr><td>27</td><td>&quot;Jan&quot;</td><td>2022</td><td>1014.8</td><td>25.2</td><td>32.7</td><td>28.95</td><td>8.3</td><td>67</td><td>64</td></tr><tr><td>28</td><td>&quot;Jan&quot;</td><td>2022</td><td>1014.6</td><td>24.8</td><td>33.2</td><td>29.0</td><td>8.3</td><td>67</td><td>63</td></tr><tr><td>29</td><td>&quot;Jan&quot;</td><td>2022</td><td>1015.1</td><td>24.2</td><td>33.6</td><td>28.9</td><td>8.3</td><td>67</td><td>65</td></tr><tr><td>30</td><td>&quot;Jan&quot;</td><td>2022</td><td>1015.9</td><td>25.1</td><td>35.6</td><td>30.35</td><td>8.3</td><td>67</td><td>64</td></tr><tr><td>31</td><td>&quot;Jan&quot;</td><td>2022</td><td>1015.9</td><td>25.2</td><td>33.2</td><td>29.2</td><td>8.3</td><td>67</td><td>63</td></tr></tbody></table></div>"
      ],
      "text/plain": [
       "shape: (31, 10)\n",
       "┌────────────┬───────┬──────┬────────────┬─────┬────────────┬────────────┬────────────┬────────────┐\n",
       "│ DAY_OF_MON ┆ MONTH ┆ YEAR ┆ Mean_Press ┆ ... ┆ Daily_Mean ┆ Mean_Wind_ ┆ Mean_Wind_ ┆ Mean_Humid │\n",
       "│ TH         ┆ ---   ┆ ---  ┆ ure_Day    ┆     ┆ _Temp      ┆ Speed      ┆ Direction  ┆ _Day       │\n",
       "│ ---        ┆ str   ┆ i32  ┆ ---        ┆     ┆ ---        ┆ ---        ┆ ---        ┆ ---        │\n",
       "│ i64        ┆       ┆      ┆ f64        ┆     ┆ f64        ┆ f64        ┆ i64        ┆ i64        │\n",
       "╞════════════╪═══════╪══════╪════════════╪═════╪════════════╪════════════╪════════════╪════════════╡\n",
       "│ 1          ┆ Jan   ┆ 2022 ┆ 1009.7     ┆ ... ┆ 26.5       ┆ 8.3        ┆ 67         ┆ 78         │\n",
       "│ 2          ┆ Jan   ┆ 2022 ┆ 1009.2     ┆ ... ┆ 26.7       ┆ 8.3        ┆ 67         ┆ 73         │\n",
       "│ 3          ┆ Jan   ┆ 2022 ┆ 1009.5     ┆ ... ┆ 27.05      ┆ 8.3        ┆ 67         ┆ 67         │\n",
       "│ 4          ┆ Jan   ┆ 2022 ┆ 1009.9     ┆ ... ┆ 28.1       ┆ 8.3        ┆ 67         ┆ 69         │\n",
       "│ ...        ┆ ...   ┆ ...  ┆ ...        ┆ ... ┆ ...        ┆ ...        ┆ ...        ┆ ...        │\n",
       "│ 28         ┆ Jan   ┆ 2022 ┆ 1014.6     ┆ ... ┆ 29.0       ┆ 8.3        ┆ 67         ┆ 63         │\n",
       "│ 29         ┆ Jan   ┆ 2022 ┆ 1015.1     ┆ ... ┆ 28.9       ┆ 8.3        ┆ 67         ┆ 65         │\n",
       "│ 30         ┆ Jan   ┆ 2022 ┆ 1015.9     ┆ ... ┆ 30.35      ┆ 8.3        ┆ 67         ┆ 64         │\n",
       "│ 31         ┆ Jan   ┆ 2022 ┆ 1015.9     ┆ ... ┆ 29.2       ┆ 8.3        ┆ 67         ┆ 63         │\n",
       "└────────────┴───────┴──────┴────────────┴─────┴────────────┴────────────┴────────────┴────────────┘"
      ]
     },
     "execution_count": 182,
     "metadata": {},
     "output_type": "execute_result"
    }
   ],
   "source": [
    "year = 2022\n",
    "month = \"Jan\"\n",
    "# create a dictionary to map month strings to integer values\n",
    "month_dict = {\"Jan\": 1, \"Feb\": 2, \"Mar\": 3, \"Apr\": 4, \"May\": 5, \"Jun\": 6, \"Jul\": 7, \"Aug\": 8, \"Sep\": 9, \"Oct\": 10, \"Nov\": 11, \"Dec\": 12}\n",
    "month_reverse_dict = {v: k for k, v in month_dict.items()}\n",
    "get_whole(get_mean_press(year,month),get_merge_temp(get_min_temp(year),get_max_temp(year)),get_wind(year),get_mean_humi(year,month))"
   ]
  },
  {
   "cell_type": "code",
   "execution_count": 160,
   "metadata": {},
   "outputs": [
    {
     "data": {
      "text/html": [
       "<div><style>\n",
       ".dataframe > thead > tr > th,\n",
       ".dataframe > tbody > tr > td {\n",
       "  text-align: right;\n",
       "}\n",
       "</style>\n",
       "<small>shape: (31, 10)</small><table border=\"1\" class=\"dataframe\"><thead><tr><th>DAY_OF_MONTH</th><th>MONTH</th><th>YEAR</th><th>Mean_Pressure_Day</th><th>Daily_Min_Temp</th><th>Daily_Max_Temp</th><th>Daily_Mean_Temp</th><th>Mean_Wind_Speed</th><th>Mean_Wind_Direction</th><th>Mean_Humid_Day</th></tr><tr><td>i64</td><td>str</td><td>i32</td><td>f64</td><td>f64</td><td>f64</td><td>f64</td><td>f64</td><td>i64</td><td>i64</td></tr></thead><tbody><tr><td>1</td><td>&quot;Jan&quot;</td><td>2022</td><td>1009.7</td><td>22.4</td><td>30.6</td><td>26.5</td><td>8.3</td><td>67</td><td>78</td></tr><tr><td>2</td><td>&quot;Jan&quot;</td><td>2022</td><td>1009.2</td><td>22.3</td><td>31.1</td><td>26.7</td><td>8.3</td><td>67</td><td>73</td></tr><tr><td>3</td><td>&quot;Jan&quot;</td><td>2022</td><td>1009.5</td><td>22.4</td><td>31.7</td><td>27.05</td><td>8.3</td><td>67</td><td>67</td></tr><tr><td>4</td><td>&quot;Jan&quot;</td><td>2022</td><td>1009.9</td><td>23.4</td><td>32.8</td><td>28.1</td><td>8.3</td><td>67</td><td>69</td></tr><tr><td>5</td><td>&quot;Jan&quot;</td><td>2022</td><td>1010.3</td><td>22.4</td><td>33.9</td><td>28.15</td><td>8.3</td><td>67</td><td>70</td></tr><tr><td>6</td><td>&quot;Jan&quot;</td><td>2022</td><td>1010.0</td><td>21.9</td><td>34.4</td><td>28.15</td><td>8.3</td><td>67</td><td>68</td></tr><tr><td>7</td><td>&quot;Jan&quot;</td><td>2022</td><td>1010.1</td><td>23.2</td><td>34.4</td><td>28.8</td><td>8.3</td><td>67</td><td>65</td></tr><tr><td>8</td><td>&quot;Jan&quot;</td><td>2022</td><td>1010.1</td><td>23.3</td><td>34.5</td><td>28.9</td><td>8.3</td><td>67</td><td>70</td></tr><tr><td>9</td><td>&quot;Jan&quot;</td><td>2022</td><td>1009.7</td><td>22.3</td><td>34.0</td><td>28.15</td><td>8.3</td><td>67</td><td>70</td></tr><tr><td>10</td><td>&quot;Jan&quot;</td><td>2022</td><td>1009.5</td><td>22.6</td><td>35.4</td><td>29.0</td><td>8.3</td><td>67</td><td>74</td></tr><tr><td>11</td><td>&quot;Jan&quot;</td><td>2022</td><td>1010.3</td><td>22.7</td><td>35.1</td><td>28.9</td><td>8.3</td><td>67</td><td>67</td></tr><tr><td>12</td><td>&quot;Jan&quot;</td><td>2022</td><td>1010.8</td><td>22.5</td><td>33.1</td><td>27.8</td><td>8.3</td><td>67</td><td>64</td></tr><tr><td>...</td><td>...</td><td>...</td><td>...</td><td>...</td><td>...</td><td>...</td><td>...</td><td>...</td><td>...</td></tr><tr><td>20</td><td>&quot;Jan&quot;</td><td>2022</td><td>1010.9</td><td>23.8</td><td>33.4</td><td>28.6</td><td>8.3</td><td>67</td><td>56</td></tr><tr><td>21</td><td>&quot;Jan&quot;</td><td>2022</td><td>1010.2</td><td>25.5</td><td>31.4</td><td>28.45</td><td>8.3</td><td>67</td><td>60</td></tr><tr><td>22</td><td>&quot;Jan&quot;</td><td>2022</td><td>1010.2</td><td>24.0</td><td>31.7</td><td>27.85</td><td>8.3</td><td>67</td><td>72</td></tr><tr><td>23</td><td>&quot;Jan&quot;</td><td>2022</td><td>1010.5</td><td>23.4</td><td>34.0</td><td>28.7</td><td>8.3</td><td>67</td><td>66</td></tr><tr><td>24</td><td>&quot;Jan&quot;</td><td>2022</td><td>1012.5</td><td>24.2</td><td>33.4</td><td>28.8</td><td>8.3</td><td>67</td><td>60</td></tr><tr><td>25</td><td>&quot;Jan&quot;</td><td>2022</td><td>1014.6</td><td>23.6</td><td>35.2</td><td>29.4</td><td>8.3</td><td>67</td><td>62</td></tr><tr><td>26</td><td>&quot;Jan&quot;</td><td>2022</td><td>1015.2</td><td>24.4</td><td>33.6</td><td>29.0</td><td>8.3</td><td>67</td><td>60</td></tr><tr><td>27</td><td>&quot;Jan&quot;</td><td>2022</td><td>1014.8</td><td>25.2</td><td>32.7</td><td>28.95</td><td>8.3</td><td>67</td><td>64</td></tr><tr><td>28</td><td>&quot;Jan&quot;</td><td>2022</td><td>1014.6</td><td>24.8</td><td>33.2</td><td>29.0</td><td>8.3</td><td>67</td><td>63</td></tr><tr><td>29</td><td>&quot;Jan&quot;</td><td>2022</td><td>1015.1</td><td>24.2</td><td>33.6</td><td>28.9</td><td>8.3</td><td>67</td><td>65</td></tr><tr><td>30</td><td>&quot;Jan&quot;</td><td>2022</td><td>1015.9</td><td>25.1</td><td>35.6</td><td>30.35</td><td>8.3</td><td>67</td><td>64</td></tr><tr><td>31</td><td>&quot;Jan&quot;</td><td>2022</td><td>1015.9</td><td>25.2</td><td>33.2</td><td>29.2</td><td>8.3</td><td>67</td><td>63</td></tr></tbody></table></div>"
      ],
      "text/plain": [
       "shape: (31, 10)\n",
       "┌────────────┬───────┬──────┬────────────┬─────┬────────────┬────────────┬────────────┬────────────┐\n",
       "│ DAY_OF_MON ┆ MONTH ┆ YEAR ┆ Mean_Press ┆ ... ┆ Daily_Mean ┆ Mean_Wind_ ┆ Mean_Wind_ ┆ Mean_Humid │\n",
       "│ TH         ┆ ---   ┆ ---  ┆ ure_Day    ┆     ┆ _Temp      ┆ Speed      ┆ Direction  ┆ _Day       │\n",
       "│ ---        ┆ str   ┆ i32  ┆ ---        ┆     ┆ ---        ┆ ---        ┆ ---        ┆ ---        │\n",
       "│ i64        ┆       ┆      ┆ f64        ┆     ┆ f64        ┆ f64        ┆ i64        ┆ i64        │\n",
       "╞════════════╪═══════╪══════╪════════════╪═════╪════════════╪════════════╪════════════╪════════════╡\n",
       "│ 1          ┆ Jan   ┆ 2022 ┆ 1009.7     ┆ ... ┆ 26.5       ┆ 8.3        ┆ 67         ┆ 78         │\n",
       "│ 2          ┆ Jan   ┆ 2022 ┆ 1009.2     ┆ ... ┆ 26.7       ┆ 8.3        ┆ 67         ┆ 73         │\n",
       "│ 3          ┆ Jan   ┆ 2022 ┆ 1009.5     ┆ ... ┆ 27.05      ┆ 8.3        ┆ 67         ┆ 67         │\n",
       "│ 4          ┆ Jan   ┆ 2022 ┆ 1009.9     ┆ ... ┆ 28.1       ┆ 8.3        ┆ 67         ┆ 69         │\n",
       "│ ...        ┆ ...   ┆ ...  ┆ ...        ┆ ... ┆ ...        ┆ ...        ┆ ...        ┆ ...        │\n",
       "│ 28         ┆ Jan   ┆ 2022 ┆ 1014.6     ┆ ... ┆ 29.0       ┆ 8.3        ┆ 67         ┆ 63         │\n",
       "│ 29         ┆ Jan   ┆ 2022 ┆ 1015.1     ┆ ... ┆ 28.9       ┆ 8.3        ┆ 67         ┆ 65         │\n",
       "│ 30         ┆ Jan   ┆ 2022 ┆ 1015.9     ┆ ... ┆ 30.35      ┆ 8.3        ┆ 67         ┆ 64         │\n",
       "│ 31         ┆ Jan   ┆ 2022 ┆ 1015.9     ┆ ... ┆ 29.2       ┆ 8.3        ┆ 67         ┆ 63         │\n",
       "└────────────┴───────┴──────┴────────────┴─────┴────────────┴────────────┴────────────┴────────────┘"
      ]
     },
     "execution_count": 160,
     "metadata": {},
     "output_type": "execute_result"
    }
   ],
   "source": [
    "final_data"
   ]
  },
  {
   "cell_type": "code",
   "execution_count": 156,
   "metadata": {},
   "outputs": [
    {
     "data": {
      "text/html": [
       "<div><style>\n",
       ".dataframe > thead > tr > th,\n",
       ".dataframe > tbody > tr > td {\n",
       "  text-align: right;\n",
       "}\n",
       "</style>\n",
       "<small>shape: (31, 4)</small><table border=\"1\" class=\"dataframe\"><thead><tr><th>DAY_OF_MONTH</th><th>MONTH</th><th>YEAR</th><th>Mean_Pressure_Day</th></tr><tr><td>i64</td><td>str</td><td>i32</td><td>f64</td></tr></thead><tbody><tr><td>1</td><td>&quot;Jan&quot;</td><td>2022</td><td>1009.7</td></tr><tr><td>2</td><td>&quot;Jan&quot;</td><td>2022</td><td>1009.2</td></tr><tr><td>3</td><td>&quot;Jan&quot;</td><td>2022</td><td>1009.5</td></tr><tr><td>4</td><td>&quot;Jan&quot;</td><td>2022</td><td>1009.9</td></tr><tr><td>5</td><td>&quot;Jan&quot;</td><td>2022</td><td>1010.3</td></tr><tr><td>6</td><td>&quot;Jan&quot;</td><td>2022</td><td>1010.0</td></tr><tr><td>7</td><td>&quot;Jan&quot;</td><td>2022</td><td>1010.1</td></tr><tr><td>8</td><td>&quot;Jan&quot;</td><td>2022</td><td>1010.1</td></tr><tr><td>9</td><td>&quot;Jan&quot;</td><td>2022</td><td>1009.7</td></tr><tr><td>10</td><td>&quot;Jan&quot;</td><td>2022</td><td>1009.5</td></tr><tr><td>11</td><td>&quot;Jan&quot;</td><td>2022</td><td>1010.3</td></tr><tr><td>12</td><td>&quot;Jan&quot;</td><td>2022</td><td>1010.8</td></tr><tr><td>...</td><td>...</td><td>...</td><td>...</td></tr><tr><td>20</td><td>&quot;Jan&quot;</td><td>2022</td><td>1010.9</td></tr><tr><td>21</td><td>&quot;Jan&quot;</td><td>2022</td><td>1010.2</td></tr><tr><td>22</td><td>&quot;Jan&quot;</td><td>2022</td><td>1010.2</td></tr><tr><td>23</td><td>&quot;Jan&quot;</td><td>2022</td><td>1010.5</td></tr><tr><td>24</td><td>&quot;Jan&quot;</td><td>2022</td><td>1012.5</td></tr><tr><td>25</td><td>&quot;Jan&quot;</td><td>2022</td><td>1014.6</td></tr><tr><td>26</td><td>&quot;Jan&quot;</td><td>2022</td><td>1015.2</td></tr><tr><td>27</td><td>&quot;Jan&quot;</td><td>2022</td><td>1014.8</td></tr><tr><td>28</td><td>&quot;Jan&quot;</td><td>2022</td><td>1014.6</td></tr><tr><td>29</td><td>&quot;Jan&quot;</td><td>2022</td><td>1015.1</td></tr><tr><td>30</td><td>&quot;Jan&quot;</td><td>2022</td><td>1015.9</td></tr><tr><td>31</td><td>&quot;Jan&quot;</td><td>2022</td><td>1015.9</td></tr></tbody></table></div>"
      ],
      "text/plain": [
       "shape: (31, 4)\n",
       "┌──────────────┬───────┬──────┬───────────────────┐\n",
       "│ DAY_OF_MONTH ┆ MONTH ┆ YEAR ┆ Mean_Pressure_Day │\n",
       "│ ---          ┆ ---   ┆ ---  ┆ ---               │\n",
       "│ i64          ┆ str   ┆ i32  ┆ f64               │\n",
       "╞══════════════╪═══════╪══════╪═══════════════════╡\n",
       "│ 1            ┆ Jan   ┆ 2022 ┆ 1009.7            │\n",
       "│ 2            ┆ Jan   ┆ 2022 ┆ 1009.2            │\n",
       "│ 3            ┆ Jan   ┆ 2022 ┆ 1009.5            │\n",
       "│ 4            ┆ Jan   ┆ 2022 ┆ 1009.9            │\n",
       "│ ...          ┆ ...   ┆ ...  ┆ ...               │\n",
       "│ 28           ┆ Jan   ┆ 2022 ┆ 1014.6            │\n",
       "│ 29           ┆ Jan   ┆ 2022 ┆ 1015.1            │\n",
       "│ 30           ┆ Jan   ┆ 2022 ┆ 1015.9            │\n",
       "│ 31           ┆ Jan   ┆ 2022 ┆ 1015.9            │\n",
       "└──────────────┴───────┴──────┴───────────────────┘"
      ]
     },
     "execution_count": 156,
     "metadata": {},
     "output_type": "execute_result"
    }
   ],
   "source": [
    "sorted_filtered_cis_3h_presmsl"
   ]
  },
  {
   "cell_type": "code",
   "execution_count": 158,
   "metadata": {},
   "outputs": [
    {
     "data": {
      "text/html": [
       "<div><style>\n",
       ".dataframe > thead > tr > th,\n",
       ".dataframe > tbody > tr > td {\n",
       "  text-align: right;\n",
       "}\n",
       "</style>\n",
       "<small>shape: (372, 6)</small><table border=\"1\" class=\"dataframe\"><thead><tr><th>DAY_OF_MONTH</th><th>MONTH</th><th>YEAR</th><th>Daily_Min_Temp</th><th>Daily_Max_Temp</th><th>Daily_Mean_Temp</th></tr><tr><td>i64</td><td>str</td><td>i32</td><td>f64</td><td>f64</td><td>f64</td></tr></thead><tbody><tr><td>1</td><td>&quot;Jan&quot;</td><td>2022</td><td>22.4</td><td>30.6</td><td>26.5</td></tr><tr><td>2</td><td>&quot;Jan&quot;</td><td>2022</td><td>22.3</td><td>31.1</td><td>26.7</td></tr><tr><td>3</td><td>&quot;Jan&quot;</td><td>2022</td><td>22.4</td><td>31.7</td><td>27.05</td></tr><tr><td>4</td><td>&quot;Jan&quot;</td><td>2022</td><td>23.4</td><td>32.8</td><td>28.1</td></tr><tr><td>5</td><td>&quot;Jan&quot;</td><td>2022</td><td>22.4</td><td>33.9</td><td>28.15</td></tr><tr><td>6</td><td>&quot;Jan&quot;</td><td>2022</td><td>21.9</td><td>34.4</td><td>28.15</td></tr><tr><td>7</td><td>&quot;Jan&quot;</td><td>2022</td><td>23.2</td><td>34.4</td><td>28.8</td></tr><tr><td>8</td><td>&quot;Jan&quot;</td><td>2022</td><td>23.3</td><td>34.5</td><td>28.9</td></tr><tr><td>9</td><td>&quot;Jan&quot;</td><td>2022</td><td>22.3</td><td>34.0</td><td>28.15</td></tr><tr><td>10</td><td>&quot;Jan&quot;</td><td>2022</td><td>22.6</td><td>35.4</td><td>29.0</td></tr><tr><td>11</td><td>&quot;Jan&quot;</td><td>2022</td><td>22.7</td><td>35.1</td><td>28.9</td></tr><tr><td>12</td><td>&quot;Jan&quot;</td><td>2022</td><td>22.5</td><td>33.1</td><td>27.8</td></tr><tr><td>...</td><td>...</td><td>...</td><td>...</td><td>...</td><td>...</td></tr><tr><td>20</td><td>&quot;Dec&quot;</td><td>2022</td><td>18.9</td><td>30.4</td><td>24.65</td></tr><tr><td>21</td><td>&quot;Dec&quot;</td><td>2022</td><td>21.5</td><td>32.5</td><td>27.0</td></tr><tr><td>22</td><td>&quot;Dec&quot;</td><td>2022</td><td>20.5</td><td>33.0</td><td>26.75</td></tr><tr><td>23</td><td>&quot;Dec&quot;</td><td>2022</td><td>22.0</td><td>32.5</td><td>27.25</td></tr><tr><td>24</td><td>&quot;Dec&quot;</td><td>2022</td><td>22.2</td><td>29.9</td><td>26.05</td></tr><tr><td>25</td><td>&quot;Dec&quot;</td><td>2022</td><td>20.8</td><td>29.9</td><td>25.35</td></tr><tr><td>26</td><td>&quot;Dec&quot;</td><td>2022</td><td>20.2</td><td>30.6</td><td>25.4</td></tr><tr><td>27</td><td>&quot;Dec&quot;</td><td>2022</td><td>20.0</td><td>30.5</td><td>25.25</td></tr><tr><td>28</td><td>&quot;Dec&quot;</td><td>2022</td><td>20.5</td><td>31.6</td><td>26.05</td></tr><tr><td>29</td><td>&quot;Dec&quot;</td><td>2022</td><td>20.0</td><td>31.9</td><td>25.95</td></tr><tr><td>30</td><td>&quot;Dec&quot;</td><td>2022</td><td>22.5</td><td>30.7</td><td>26.6</td></tr><tr><td>31</td><td>&quot;Dec&quot;</td><td>2022</td><td>21.4</td><td>29.9</td><td>25.65</td></tr></tbody></table></div>"
      ],
      "text/plain": [
       "shape: (372, 6)\n",
       "┌──────────────┬───────┬──────┬────────────────┬────────────────┬─────────────────┐\n",
       "│ DAY_OF_MONTH ┆ MONTH ┆ YEAR ┆ Daily_Min_Temp ┆ Daily_Max_Temp ┆ Daily_Mean_Temp │\n",
       "│ ---          ┆ ---   ┆ ---  ┆ ---            ┆ ---            ┆ ---             │\n",
       "│ i64          ┆ str   ┆ i32  ┆ f64            ┆ f64            ┆ f64             │\n",
       "╞══════════════╪═══════╪══════╪════════════════╪════════════════╪═════════════════╡\n",
       "│ 1            ┆ Jan   ┆ 2022 ┆ 22.4           ┆ 30.6           ┆ 26.5            │\n",
       "│ 2            ┆ Jan   ┆ 2022 ┆ 22.3           ┆ 31.1           ┆ 26.7            │\n",
       "│ 3            ┆ Jan   ┆ 2022 ┆ 22.4           ┆ 31.7           ┆ 27.05           │\n",
       "│ 4            ┆ Jan   ┆ 2022 ┆ 23.4           ┆ 32.8           ┆ 28.1            │\n",
       "│ ...          ┆ ...   ┆ ...  ┆ ...            ┆ ...            ┆ ...             │\n",
       "│ 28           ┆ Dec   ┆ 2022 ┆ 20.5           ┆ 31.6           ┆ 26.05           │\n",
       "│ 29           ┆ Dec   ┆ 2022 ┆ 20.0           ┆ 31.9           ┆ 25.95           │\n",
       "│ 30           ┆ Dec   ┆ 2022 ┆ 22.5           ┆ 30.7           ┆ 26.6            │\n",
       "│ 31           ┆ Dec   ┆ 2022 ┆ 21.4           ┆ 29.9           ┆ 25.65           │\n",
       "└──────────────┴───────┴──────┴────────────────┴────────────────┴─────────────────┘"
      ]
     },
     "execution_count": 158,
     "metadata": {},
     "output_type": "execute_result"
    }
   ],
   "source": [
    "merge_temp.with_columns(p.col(\"MONTH\").map_dict(month_dict)).sort(\"MONTH\").with_columns(p.col(\"MONTH\").map_dict(month_reverse_dict))"
   ]
  },
  {
   "cell_type": "code",
   "execution_count": 157,
   "metadata": {},
   "outputs": [
    {
     "data": {
      "text/html": [
       "<div><style>\n",
       ".dataframe > thead > tr > th,\n",
       ".dataframe > tbody > tr > td {\n",
       "  text-align: right;\n",
       "}\n",
       "</style>\n",
       "<small>shape: (372, 6)</small><table border=\"1\" class=\"dataframe\"><thead><tr><th>DAY_OF_MONTH</th><th>MONTH</th><th>YEAR</th><th>Daily_Min_Temp</th><th>Daily_Max_Temp</th><th>Daily_Mean_Temp</th></tr><tr><td>i64</td><td>i64</td><td>i32</td><td>f64</td><td>f64</td><td>f64</td></tr></thead><tbody><tr><td>1</td><td>1</td><td>2022</td><td>22.4</td><td>30.6</td><td>26.5</td></tr><tr><td>1</td><td>2</td><td>2022</td><td>26.4</td><td>32.6</td><td>29.5</td></tr><tr><td>1</td><td>3</td><td>2022</td><td>26.7</td><td>34.4</td><td>30.55</td></tr><tr><td>1</td><td>4</td><td>2022</td><td>27.2</td><td>35.9</td><td>31.55</td></tr><tr><td>1</td><td>5</td><td>2022</td><td>27.2</td><td>33.5</td><td>30.35</td></tr><tr><td>1</td><td>6</td><td>2022</td><td>27.2</td><td>35.2</td><td>31.2</td></tr><tr><td>1</td><td>7</td><td>2022</td><td>27.6</td><td>33.9</td><td>30.75</td></tr><tr><td>1</td><td>8</td><td>2022</td><td>25.5</td><td>31.2</td><td>28.35</td></tr><tr><td>1</td><td>9</td><td>2022</td><td>24.7</td><td>34.3</td><td>29.5</td></tr><tr><td>1</td><td>10</td><td>2022</td><td>26.8</td><td>33.4</td><td>30.1</td></tr><tr><td>1</td><td>11</td><td>2022</td><td>24.4</td><td>31.9</td><td>28.15</td></tr><tr><td>1</td><td>12</td><td>2022</td><td>25.3</td><td>32.8</td><td>29.05</td></tr><tr><td>...</td><td>...</td><td>...</td><td>...</td><td>...</td><td>...</td></tr><tr><td>31</td><td>1</td><td>2022</td><td>25.2</td><td>33.2</td><td>29.2</td></tr><tr><td>31</td><td>2</td><td>2022</td><td>null</td><td>null</td><td>null</td></tr><tr><td>31</td><td>3</td><td>2022</td><td>27.5</td><td>36.5</td><td>32.0</td></tr><tr><td>31</td><td>4</td><td>2022</td><td>null</td><td>null</td><td>null</td></tr><tr><td>31</td><td>5</td><td>2022</td><td>27.6</td><td>35.5</td><td>31.55</td></tr><tr><td>31</td><td>6</td><td>2022</td><td>null</td><td>null</td><td>null</td></tr><tr><td>31</td><td>7</td><td>2022</td><td>28.2</td><td>34.8</td><td>31.5</td></tr><tr><td>31</td><td>8</td><td>2022</td><td>26.5</td><td>34.0</td><td>30.25</td></tr><tr><td>31</td><td>9</td><td>2022</td><td>null</td><td>null</td><td>null</td></tr><tr><td>31</td><td>10</td><td>2022</td><td>26.4</td><td>33.2</td><td>29.8</td></tr><tr><td>31</td><td>11</td><td>2022</td><td>null</td><td>null</td><td>null</td></tr><tr><td>31</td><td>12</td><td>2022</td><td>21.4</td><td>29.9</td><td>25.65</td></tr></tbody></table></div>"
      ],
      "text/plain": [
       "shape: (372, 6)\n",
       "┌──────────────┬───────┬──────┬────────────────┬────────────────┬─────────────────┐\n",
       "│ DAY_OF_MONTH ┆ MONTH ┆ YEAR ┆ Daily_Min_Temp ┆ Daily_Max_Temp ┆ Daily_Mean_Temp │\n",
       "│ ---          ┆ ---   ┆ ---  ┆ ---            ┆ ---            ┆ ---             │\n",
       "│ i64          ┆ i64   ┆ i32  ┆ f64            ┆ f64            ┆ f64             │\n",
       "╞══════════════╪═══════╪══════╪════════════════╪════════════════╪═════════════════╡\n",
       "│ 1            ┆ 1     ┆ 2022 ┆ 22.4           ┆ 30.6           ┆ 26.5            │\n",
       "│ 1            ┆ 2     ┆ 2022 ┆ 26.4           ┆ 32.6           ┆ 29.5            │\n",
       "│ 1            ┆ 3     ┆ 2022 ┆ 26.7           ┆ 34.4           ┆ 30.55           │\n",
       "│ 1            ┆ 4     ┆ 2022 ┆ 27.2           ┆ 35.9           ┆ 31.55           │\n",
       "│ ...          ┆ ...   ┆ ...  ┆ ...            ┆ ...            ┆ ...             │\n",
       "│ 31           ┆ 9     ┆ 2022 ┆ null           ┆ null           ┆ null            │\n",
       "│ 31           ┆ 10    ┆ 2022 ┆ 26.4           ┆ 33.2           ┆ 29.8            │\n",
       "│ 31           ┆ 11    ┆ 2022 ┆ null           ┆ null           ┆ null            │\n",
       "│ 31           ┆ 12    ┆ 2022 ┆ 21.4           ┆ 29.9           ┆ 25.65           │\n",
       "└──────────────┴───────┴──────┴────────────────┴────────────────┴─────────────────┘"
      ]
     },
     "execution_count": 157,
     "metadata": {},
     "output_type": "execute_result"
    }
   ],
   "source": [
    "merge_temp.with_columns(p.col(\"MONTH\").map_dict(month_dict))"
   ]
  },
  {
   "cell_type": "code",
   "execution_count": 95,
   "metadata": {},
   "outputs": [
    {
     "data": {
      "text/html": [
       "<div><style>\n",
       ".dataframe > thead > tr > th,\n",
       ".dataframe > tbody > tr > td {\n",
       "  text-align: right;\n",
       "}\n",
       "</style>\n",
       "<small>shape: (961, 7)</small><table border=\"1\" class=\"dataframe\"><thead><tr><th>DAY_OF_MONTH</th><th>MONTH</th><th>YEAR</th><th>Mean_Pressure_Day</th><th>Daily_Min_Temp</th><th>Daily_Max_Temp</th><th>Daily_Mean_Temp</th></tr><tr><td>i64</td><td>str</td><td>i32</td><td>f64</td><td>f64</td><td>f64</td><td>f64</td></tr></thead><tbody><tr><td>1</td><td>&quot;Jan&quot;</td><td>2022</td><td>1009.7</td><td>22.4</td><td>30.6</td><td>26.5</td></tr><tr><td>1</td><td>&quot;Jan&quot;</td><td>2022</td><td>1009.7</td><td>22.3</td><td>31.1</td><td>26.7</td></tr><tr><td>1</td><td>&quot;Jan&quot;</td><td>2022</td><td>1009.7</td><td>22.4</td><td>31.7</td><td>27.05</td></tr><tr><td>1</td><td>&quot;Jan&quot;</td><td>2022</td><td>1009.7</td><td>23.4</td><td>32.8</td><td>28.1</td></tr><tr><td>1</td><td>&quot;Jan&quot;</td><td>2022</td><td>1009.7</td><td>22.4</td><td>33.9</td><td>28.15</td></tr><tr><td>1</td><td>&quot;Jan&quot;</td><td>2022</td><td>1009.7</td><td>21.9</td><td>34.4</td><td>28.15</td></tr><tr><td>1</td><td>&quot;Jan&quot;</td><td>2022</td><td>1009.7</td><td>23.2</td><td>34.4</td><td>28.8</td></tr><tr><td>1</td><td>&quot;Jan&quot;</td><td>2022</td><td>1009.7</td><td>23.3</td><td>34.5</td><td>28.9</td></tr><tr><td>1</td><td>&quot;Jan&quot;</td><td>2022</td><td>1009.7</td><td>22.3</td><td>34.0</td><td>28.15</td></tr><tr><td>1</td><td>&quot;Jan&quot;</td><td>2022</td><td>1009.7</td><td>22.6</td><td>35.4</td><td>29.0</td></tr><tr><td>1</td><td>&quot;Jan&quot;</td><td>2022</td><td>1009.7</td><td>22.7</td><td>35.1</td><td>28.9</td></tr><tr><td>1</td><td>&quot;Jan&quot;</td><td>2022</td><td>1009.7</td><td>22.5</td><td>33.1</td><td>27.8</td></tr><tr><td>...</td><td>...</td><td>...</td><td>...</td><td>...</td><td>...</td><td>...</td></tr><tr><td>31</td><td>&quot;Jan&quot;</td><td>2022</td><td>1015.9</td><td>23.8</td><td>33.4</td><td>28.6</td></tr><tr><td>31</td><td>&quot;Jan&quot;</td><td>2022</td><td>1015.9</td><td>25.5</td><td>31.4</td><td>28.45</td></tr><tr><td>31</td><td>&quot;Jan&quot;</td><td>2022</td><td>1015.9</td><td>24.0</td><td>31.7</td><td>27.85</td></tr><tr><td>31</td><td>&quot;Jan&quot;</td><td>2022</td><td>1015.9</td><td>23.4</td><td>34.0</td><td>28.7</td></tr><tr><td>31</td><td>&quot;Jan&quot;</td><td>2022</td><td>1015.9</td><td>24.2</td><td>33.4</td><td>28.8</td></tr><tr><td>31</td><td>&quot;Jan&quot;</td><td>2022</td><td>1015.9</td><td>23.6</td><td>35.2</td><td>29.4</td></tr><tr><td>31</td><td>&quot;Jan&quot;</td><td>2022</td><td>1015.9</td><td>24.4</td><td>33.6</td><td>29.0</td></tr><tr><td>31</td><td>&quot;Jan&quot;</td><td>2022</td><td>1015.9</td><td>25.2</td><td>32.7</td><td>28.95</td></tr><tr><td>31</td><td>&quot;Jan&quot;</td><td>2022</td><td>1015.9</td><td>24.8</td><td>33.2</td><td>29.0</td></tr><tr><td>31</td><td>&quot;Jan&quot;</td><td>2022</td><td>1015.9</td><td>24.2</td><td>33.6</td><td>28.9</td></tr><tr><td>31</td><td>&quot;Jan&quot;</td><td>2022</td><td>1015.9</td><td>25.1</td><td>35.6</td><td>30.35</td></tr><tr><td>31</td><td>&quot;Jan&quot;</td><td>2022</td><td>1015.9</td><td>25.2</td><td>33.2</td><td>29.2</td></tr></tbody></table></div>"
      ],
      "text/plain": [
       "shape: (961, 7)\n",
       "┌──────────────┬───────┬──────┬─────────────────┬────────────────┬────────────────┬────────────────┐\n",
       "│ DAY_OF_MONTH ┆ MONTH ┆ YEAR ┆ Mean_Pressure_D ┆ Daily_Min_Temp ┆ Daily_Max_Temp ┆ Daily_Mean_Tem │\n",
       "│ ---          ┆ ---   ┆ ---  ┆ ay              ┆ ---            ┆ ---            ┆ p              │\n",
       "│ i64          ┆ str   ┆ i32  ┆ ---             ┆ f64            ┆ f64            ┆ ---            │\n",
       "│              ┆       ┆      ┆ f64             ┆                ┆                ┆ f64            │\n",
       "╞══════════════╪═══════╪══════╪═════════════════╪════════════════╪════════════════╪════════════════╡\n",
       "│ 1            ┆ Jan   ┆ 2022 ┆ 1009.7          ┆ 22.4           ┆ 30.6           ┆ 26.5           │\n",
       "│ 1            ┆ Jan   ┆ 2022 ┆ 1009.7          ┆ 22.3           ┆ 31.1           ┆ 26.7           │\n",
       "│ 1            ┆ Jan   ┆ 2022 ┆ 1009.7          ┆ 22.4           ┆ 31.7           ┆ 27.05          │\n",
       "│ 1            ┆ Jan   ┆ 2022 ┆ 1009.7          ┆ 23.4           ┆ 32.8           ┆ 28.1           │\n",
       "│ ...          ┆ ...   ┆ ...  ┆ ...             ┆ ...            ┆ ...            ┆ ...            │\n",
       "│ 31           ┆ Jan   ┆ 2022 ┆ 1015.9          ┆ 24.8           ┆ 33.2           ┆ 29.0           │\n",
       "│ 31           ┆ Jan   ┆ 2022 ┆ 1015.9          ┆ 24.2           ┆ 33.6           ┆ 28.9           │\n",
       "│ 31           ┆ Jan   ┆ 2022 ┆ 1015.9          ┆ 25.1           ┆ 35.6           ┆ 30.35          │\n",
       "│ 31           ┆ Jan   ┆ 2022 ┆ 1015.9          ┆ 25.2           ┆ 33.2           ┆ 29.2           │\n",
       "└──────────────┴───────┴──────┴─────────────────┴────────────────┴────────────────┴────────────────┘"
      ]
     },
     "execution_count": 95,
     "metadata": {},
     "output_type": "execute_result"
    }
   ],
   "source": [
    "final_data"
   ]
  }
 ],
 "metadata": {
  "kernelspec": {
   "display_name": "Python 3",
   "language": "python",
   "name": "python3"
  },
  "language_info": {
   "codemirror_mode": {
    "name": "ipython",
    "version": 3
   },
   "file_extension": ".py",
   "mimetype": "text/x-python",
   "name": "python",
   "nbconvert_exporter": "python",
   "pygments_lexer": "ipython3",
   "version": "3.9.13"
  },
  "orig_nbformat": 4
 },
 "nbformat": 4,
 "nbformat_minor": 2
}
