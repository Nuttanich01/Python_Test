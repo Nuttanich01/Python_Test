{
 "cells": [
  {
   "cell_type": "markdown",
   "metadata": {},
   "source": [
    "# Implement a function to reverse a string."
   ]
  },
  {
   "cell_type": "code",
   "execution_count": null,
   "metadata": {},
   "outputs": [],
   "source": [
    "#Ans\n",
    "def reverse_string_function(input_str):\n",
    "    return input_str[::-1]\n",
    "#(start:stop:step)\n",
    "#(ถ้าติดลบคือย้อนจากหลังมาข้างหน้า)"
   ]
  },
  {
   "cell_type": "code",
   "execution_count": null,
   "metadata": {},
   "outputs": [],
   "source": [
    "#Test\n",
    "def reverse_string_function(input_str):\n",
    "    return input_str[::-1]\n",
    "\n",
    "# ตัวอย่างการใช้งาน\n",
    "original_string = \"Hello, World!\"\n",
    "reversed_string = reverse_string_function(original_string)\n",
    "print(\"Original string:\", original_string)\n",
    "print(\"Reversed string:\", reversed_string)"
   ]
  },
  {
   "cell_type": "markdown",
   "metadata": {},
   "source": [
    "# How would you group a DataFrame by a specific column and calculate the mean value of another column? \n"
   ]
  },
  {
   "cell_type": "code",
   "execution_count": null,
   "metadata": {},
   "outputs": [],
   "source": [
    "#Ans\n",
    "result = df.groupby('column_1')[['column_2', 'column_3','column_4']].mean()"
   ]
  },
  {
   "cell_type": "code",
   "execution_count": 23,
   "metadata": {},
   "outputs": [
    {
     "name": "stdout",
     "output_type": "stream",
     "text": [
      "          Value1     Value2     Value3     Value4     Value5\n",
      "Category                                                    \n",
      "A           20.0  14.000000  14.000000  14.000000  14.000000\n",
      "B           25.0  18.666667  18.666667  18.666667  18.666667\n"
     ]
    }
   ],
   "source": [
    "#Test\n",
    "import pandas as pd\n",
    "\n",
    "# Create a sample DataFrame\n",
    "data = {'Category': ['A', 'B', 'A', 'B', 'A', 'B'],\n",
    "        'Value1': [10, 15, 20, 25, 30, 35],\n",
    "        'Value2': [5, 8, 12, 18, 25, 30],\n",
    "        'Value3': [5, 8, 12, 18, 25, 30],\n",
    "        'Value4': [5, 8, 12, 18, 25, 30],\n",
    "        'Value5': [5, 8, 12, 18, 25, 30]\n",
    "        }\n",
    "\n",
    "df = pd.DataFrame(data)\n",
    "\n",
    "# การใช้งาน .agg(...) คือจะทำให้ใช้งาน func agg ได้หลากหลายมากขึ้น\n",
    "# เเต่จริง ๆจะใช้ func agg ตรง ๆ เลยก็ได้ เช่น .mean() .max() ซึ่งมันจะสะดวกต่อการใช้งานเเค่ func agg เดียวนั้น ๆเเค่นั้น\n",
    "# result = df.groupby('Category')[['Value1', 'Value2', 'Value3', 'Value4', 'Value5']].agg(['mean'])\n",
    "\n",
    "# ถ้าเอามาต่อกันอย่างนี้มันจะทำการ หาค่าเฉลี่ยก่อน เเล้วก็หาค่า Max ในค่าเฉลี่ยนั้น ๆอีกที\n",
    "result = df.groupby('Category')[['Value1', 'Value2', 'Value3', 'Value4', 'Value5']].mean()\n",
    "\n",
    "print(result)"
   ]
  },
  {
   "cell_type": "markdown",
   "metadata": {},
   "source": [
    "# Implement a function to count the frequency of each element in an array.\n",
    "* ให้ไปศึกษาเรื่อง list set tuples dict python มาด้วย"
   ]
  },
  {
   "cell_type": "code",
   "execution_count": null,
   "metadata": {},
   "outputs": [],
   "source": [
    "#Ans\n",
    "def count_frequency(input_array):\n",
    "    frequency = {}\n",
    "\n",
    "    for i in input_array:\n",
    "        if i in frequency:\n",
    "            frequency[i] += 1\n",
    "        else:\n",
    "            frequency[i] = 1\n",
    "\n",
    "    return frequency"
   ]
  },
  {
   "cell_type": "code",
   "execution_count": 24,
   "metadata": {},
   "outputs": [
    {
     "name": "stdout",
     "output_type": "stream",
     "text": [
      "{1: 4, 2: 3, 3: 2, 4: 1}\n"
     ]
    }
   ],
   "source": [
    "#Test\n",
    "def count_frequency(arr):\n",
    "    frequency_dict = {}\n",
    "\n",
    "    for element in arr:\n",
    "        if element in frequency_dict:\n",
    "            frequency_dict[element] += 1\n",
    "        else:\n",
    "            frequency_dict[element] = 1\n",
    "\n",
    "    return frequency_dict\n",
    "\n",
    "# Example usage:\n",
    "arr = [1, 2, 3, 4, 1, 2, 3, 1, 2, 1]\n",
    "result = count_frequency(arr)\n",
    "print(result)"
   ]
  },
  {
   "cell_type": "markdown",
   "metadata": {},
   "source": [
    "# How would you merge two DataFrames based on a common column?\n",
    "* ให้ไปศึกษาเรื่อง merge ของ pandas ด้วย"
   ]
  },
  {
   "cell_type": "code",
   "execution_count": null,
   "metadata": {},
   "outputs": [],
   "source": [
    "#Ans\n",
    "merge_df = pd.merge(df1, df2, on='column_1', how='inner') "
   ]
  },
  {
   "cell_type": "code",
   "execution_count": 25,
   "metadata": {},
   "outputs": [
    {
     "name": "stdout",
     "output_type": "stream",
     "text": [
      "   ID   Name  Age\n",
      "0   1  Alice   25\n",
      "1   2    Bob   30\n"
     ]
    }
   ],
   "source": [
    "#Test\n",
    "import pandas as pd\n",
    "\n",
    "# Creating two sample DataFrames\n",
    "df1 = pd.DataFrame({'ID': [1, 2, 3], 'Name': ['Alice', 'Bob', 'Charlie']})\n",
    "df2 = pd.DataFrame({'ID': [1, 2, 4], 'Age': [25, 30, 22]})\n",
    "\n",
    "# Merge DataFrames based on the 'ID' column\n",
    "merged_df = pd.merge(df1, df2, on='ID', how='inner')  # 'inner' is the default, you can use 'left', 'right', or 'outer' as well\n",
    "\n",
    "print(merged_df)"
   ]
  },
  {
   "cell_type": "markdown",
   "metadata": {},
   "source": [
    "# How do you read a CSV file into a Pandas DataFrame?"
   ]
  },
  {
   "cell_type": "code",
   "execution_count": null,
   "metadata": {},
   "outputs": [],
   "source": [
    "#Ans\n",
    "raw_data = pd.read_csv('raw_data.csv')"
   ]
  },
  {
   "cell_type": "code",
   "execution_count": 28,
   "metadata": {},
   "outputs": [
    {
     "name": "stdout",
     "output_type": "stream",
     "text": [
      "<class 'pandas.core.frame.DataFrame'>\n"
     ]
    }
   ],
   "source": [
    "#Test\n",
    "import pandas as pd\n",
    "raw = pd.read_csv('D:/Desktop/clear_github/Python_Test/pandas/Test_pandas/sorce/raw.csv',sep='[|]',engine='python')\n",
    "print(type(raw))\n",
    "print(raw)"
   ]
  },
  {
   "cell_type": "markdown",
   "metadata": {},
   "source": [
    "# Implement a function to check if a given string is a palindrome."
   ]
  },
  {
   "cell_type": "code",
   "execution_count": null,
   "metadata": {},
   "outputs": [],
   "source": [
    "#Ans\n",
    "def is_palindrome(input_str):\n",
    "    clear_str = input_str.lower().replace(\" \", \"\")\n",
    "    return clear_str == clear_str[::-1]"
   ]
  },
  {
   "cell_type": "code",
   "execution_count": 72,
   "metadata": {},
   "outputs": [
    {
     "name": "stdout",
     "output_type": "stream",
     "text": [
      "True\n",
      "True\n"
     ]
    }
   ],
   "source": [
    "#Test\n",
    "def is_palindrome(input_str):\n",
    "    clear_str = input_str.lower().replace(\" \", \"\")\n",
    "    return clear_str == clear_str[::-1]\n",
    "\n",
    "# Example usage:\n",
    "string1 = \"A man a plan a canal Panama\"\n",
    "string2 = \"Was it a car or a cat I saw\"\n",
    "\n",
    "print(is_palindrome(string1))  # Output: True\n",
    "print(is_palindrome(string2))  # Output: False\n"
   ]
  },
  {
   "cell_type": "code",
   "execution_count": 61,
   "metadata": {},
   "outputs": [
    {
     "name": "stdout",
     "output_type": "stream",
     "text": [
      "True\n",
      "False\n"
     ]
    }
   ],
   "source": [
    "#Test\n",
    "def is_palindrome(input_str):\n",
    "    # Convert the input string to lowercase and remove spaces\n",
    "    clean_str = ''.join(input_str.lower().split())\n",
    "\n",
    "    # Check if the cleaned string is equal to its reverse\n",
    "    return clean_str == clean_str[::-1]\n",
    "\n",
    "# Example usage:\n",
    "string1 = \"A man a plan a canal Panama\"\n",
    "string2 = \"hello\"\n",
    "\n",
    "print(is_palindrome(string1))  # Output: True\n",
    "print(is_palindrome(string2))  # Output: False"
   ]
  },
  {
   "cell_type": "markdown",
   "metadata": {},
   "source": [
    "# Implement a function to remove duplicates from a list."
   ]
  },
  {
   "cell_type": "code",
   "execution_count": null,
   "metadata": {},
   "outputs": [],
   "source": [
    "#Ans\n",
    "df.drop_duplicates(['column_1', 'column_2', 'column_3'], inplace=True)"
   ]
  },
  {
   "cell_type": "code",
   "execution_count": null,
   "metadata": {},
   "outputs": [],
   "source": [
    "#Test"
   ]
  },
  {
   "cell_type": "markdown",
   "metadata": {},
   "source": [
    "# Write a program to sort an array of integers in ascending order."
   ]
  },
  {
   "cell_type": "code",
   "execution_count": 77,
   "metadata": {},
   "outputs": [
    {
     "name": "stdout",
     "output_type": "stream",
     "text": [
      "[1, 3, 5, 6, 9, 14, 32, 49]\n"
     ]
    }
   ],
   "source": [
    "#Ans\n",
    "array_int = [3,5,32,6,49,14,1,9]\n",
    "array_int.sort()\n",
    "print(array_int)"
   ]
  },
  {
   "cell_type": "code",
   "execution_count": 76,
   "metadata": {},
   "outputs": [
    {
     "name": "stdout",
     "output_type": "stream",
     "text": [
      "Now it is sorted: [2, 4, 5, 5, 6, 32, 42, 255]\n"
     ]
    }
   ],
   "source": [
    "#Test\n",
    "unsorted_list = [2,4,5,32,6,255,5,42]\n",
    "unsorted_list.sort()\n",
    "print(\"Now it is sorted:\", unsorted_list)"
   ]
  },
  {
   "cell_type": "markdown",
   "metadata": {},
   "source": [
    "# How can you drop a column from a DataFrame?"
   ]
  },
  {
   "cell_type": "code",
   "execution_count": null,
   "metadata": {},
   "outputs": [],
   "source": [
    "#Ans    \n",
    "df.drop(['column_1'], axis=1, inplace=True)"
   ]
  },
  {
   "cell_type": "code",
   "execution_count": null,
   "metadata": {},
   "outputs": [],
   "source": [
    "#Test\n"
   ]
  }
 ],
 "metadata": {
  "kernelspec": {
   "display_name": "Python 3",
   "language": "python",
   "name": "python3"
  },
  "language_info": {
   "codemirror_mode": {
    "name": "ipython",
    "version": 3
   },
   "file_extension": ".py",
   "mimetype": "text/x-python",
   "name": "python",
   "nbconvert_exporter": "python",
   "pygments_lexer": "ipython3",
   "version": "3.9.13"
  }
 },
 "nbformat": 4,
 "nbformat_minor": 2
}
